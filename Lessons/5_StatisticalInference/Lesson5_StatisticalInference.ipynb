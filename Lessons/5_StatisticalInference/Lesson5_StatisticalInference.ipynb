{
 "cells": [
  {
   "cell_type": "markdown",
   "metadata": {},
   "source": [
    "# Foundations for Statistical Inference"
   ]
  },
  {
   "cell_type": "markdown",
   "metadata": {},
   "source": [
    "## Sampling Distributions\n",
    "Copied and adapted from OpenStats Intro [\"Foundations for statistical inference - Sampling distributions\" lab](http://htmlpreview.github.io/?https://github.com/andrewpbray/oiLabs-base-R/blob/master/sampling_distributions/sampling_distributions.html), a product of OpenIntro that is released under a [Creative Commons Attribution-ShareAlike 3.0 Unported](http://creativecommons.org/licenses/by-sa/3.0). Original lab written for OpenIntro by Andrew Bray and Mine Çetinkaya-Rundel.\n",
    "\n",
    "In this lab, we investigate the ways in which the statistics from a random sample of data can serve as point estimates for population parameters. We’re interested in formulating a sampling distribution of our estimate in order to learn about the properties of the estimate, such as its distribution. The [data set](https://www.openintro.org/stat/data/?data=ames) is all residential home sales in Ames, Iowa 2006-2010. "
   ]
  },
  {
   "cell_type": "code",
   "execution_count": 1,
   "metadata": {
    "collapsed": true
   },
   "outputs": [],
   "source": [
    "%matplotlib inline\n",
    "import matplotlib.pyplot as plt\n",
    "import pandas as pd\n",
    "import numpy as np\n",
    "# from __future__ import print_function # Python 2 users, uncomment this statement"
   ]
  },
  {
   "cell_type": "markdown",
   "metadata": {},
   "source": [
    "## The data\n",
    "We consider real estate data from the city of Ames, Iowa. The details of every real estate transaction in Ames is recorded by the City Assessor’s office. Our particular focus for this lab will be all residential home sales in Ames between 2006 and 2010. This collection represents our population of interest. In this lab we would like to learn about these home sales by taking smaller samples from the full population. Let’s load the data."
   ]
  },
  {
   "cell_type": "code",
   "execution_count": 2,
   "metadata": {
    "collapsed": false
   },
   "outputs": [
    {
     "data": {
      "text/html": [
       "<div>\n",
       "<table border=\"1\" class=\"dataframe\">\n",
       "  <thead>\n",
       "    <tr style=\"text-align: right;\">\n",
       "      <th></th>\n",
       "      <th>Order</th>\n",
       "      <th>PID</th>\n",
       "      <th>MS.SubClass</th>\n",
       "      <th>MS.Zoning</th>\n",
       "      <th>Lot.Frontage</th>\n",
       "      <th>Lot.Area</th>\n",
       "      <th>Street</th>\n",
       "      <th>Alley</th>\n",
       "      <th>Lot.Shape</th>\n",
       "      <th>Land.Contour</th>\n",
       "      <th>...</th>\n",
       "      <th>Pool.Area</th>\n",
       "      <th>Pool.QC</th>\n",
       "      <th>Fence</th>\n",
       "      <th>Misc.Feature</th>\n",
       "      <th>Misc.Val</th>\n",
       "      <th>Mo.Sold</th>\n",
       "      <th>Yr.Sold</th>\n",
       "      <th>Sale.Type</th>\n",
       "      <th>Sale.Condition</th>\n",
       "      <th>SalePrice</th>\n",
       "    </tr>\n",
       "  </thead>\n",
       "  <tbody>\n",
       "    <tr>\n",
       "      <th>0</th>\n",
       "      <td>1</td>\n",
       "      <td>526301100</td>\n",
       "      <td>20</td>\n",
       "      <td>RL</td>\n",
       "      <td>141.0</td>\n",
       "      <td>31770</td>\n",
       "      <td>Pave</td>\n",
       "      <td>NaN</td>\n",
       "      <td>IR1</td>\n",
       "      <td>Lvl</td>\n",
       "      <td>...</td>\n",
       "      <td>0</td>\n",
       "      <td>NaN</td>\n",
       "      <td>NaN</td>\n",
       "      <td>NaN</td>\n",
       "      <td>0</td>\n",
       "      <td>5</td>\n",
       "      <td>2010</td>\n",
       "      <td>WD</td>\n",
       "      <td>Normal</td>\n",
       "      <td>215000</td>\n",
       "    </tr>\n",
       "    <tr>\n",
       "      <th>1</th>\n",
       "      <td>2</td>\n",
       "      <td>526350040</td>\n",
       "      <td>20</td>\n",
       "      <td>RH</td>\n",
       "      <td>80.0</td>\n",
       "      <td>11622</td>\n",
       "      <td>Pave</td>\n",
       "      <td>NaN</td>\n",
       "      <td>Reg</td>\n",
       "      <td>Lvl</td>\n",
       "      <td>...</td>\n",
       "      <td>0</td>\n",
       "      <td>NaN</td>\n",
       "      <td>MnPrv</td>\n",
       "      <td>NaN</td>\n",
       "      <td>0</td>\n",
       "      <td>6</td>\n",
       "      <td>2010</td>\n",
       "      <td>WD</td>\n",
       "      <td>Normal</td>\n",
       "      <td>105000</td>\n",
       "    </tr>\n",
       "    <tr>\n",
       "      <th>2</th>\n",
       "      <td>3</td>\n",
       "      <td>526351010</td>\n",
       "      <td>20</td>\n",
       "      <td>RL</td>\n",
       "      <td>81.0</td>\n",
       "      <td>14267</td>\n",
       "      <td>Pave</td>\n",
       "      <td>NaN</td>\n",
       "      <td>IR1</td>\n",
       "      <td>Lvl</td>\n",
       "      <td>...</td>\n",
       "      <td>0</td>\n",
       "      <td>NaN</td>\n",
       "      <td>NaN</td>\n",
       "      <td>Gar2</td>\n",
       "      <td>12500</td>\n",
       "      <td>6</td>\n",
       "      <td>2010</td>\n",
       "      <td>WD</td>\n",
       "      <td>Normal</td>\n",
       "      <td>172000</td>\n",
       "    </tr>\n",
       "    <tr>\n",
       "      <th>3</th>\n",
       "      <td>4</td>\n",
       "      <td>526353030</td>\n",
       "      <td>20</td>\n",
       "      <td>RL</td>\n",
       "      <td>93.0</td>\n",
       "      <td>11160</td>\n",
       "      <td>Pave</td>\n",
       "      <td>NaN</td>\n",
       "      <td>Reg</td>\n",
       "      <td>Lvl</td>\n",
       "      <td>...</td>\n",
       "      <td>0</td>\n",
       "      <td>NaN</td>\n",
       "      <td>NaN</td>\n",
       "      <td>NaN</td>\n",
       "      <td>0</td>\n",
       "      <td>4</td>\n",
       "      <td>2010</td>\n",
       "      <td>WD</td>\n",
       "      <td>Normal</td>\n",
       "      <td>244000</td>\n",
       "    </tr>\n",
       "    <tr>\n",
       "      <th>4</th>\n",
       "      <td>5</td>\n",
       "      <td>527105010</td>\n",
       "      <td>60</td>\n",
       "      <td>RL</td>\n",
       "      <td>74.0</td>\n",
       "      <td>13830</td>\n",
       "      <td>Pave</td>\n",
       "      <td>NaN</td>\n",
       "      <td>IR1</td>\n",
       "      <td>Lvl</td>\n",
       "      <td>...</td>\n",
       "      <td>0</td>\n",
       "      <td>NaN</td>\n",
       "      <td>MnPrv</td>\n",
       "      <td>NaN</td>\n",
       "      <td>0</td>\n",
       "      <td>3</td>\n",
       "      <td>2010</td>\n",
       "      <td>WD</td>\n",
       "      <td>Normal</td>\n",
       "      <td>189900</td>\n",
       "    </tr>\n",
       "  </tbody>\n",
       "</table>\n",
       "<p>5 rows × 82 columns</p>\n",
       "</div>"
      ],
      "text/plain": [
       "   Order        PID  MS.SubClass MS.Zoning  Lot.Frontage  Lot.Area Street  \\\n",
       "0      1  526301100           20        RL         141.0     31770   Pave   \n",
       "1      2  526350040           20        RH          80.0     11622   Pave   \n",
       "2      3  526351010           20        RL          81.0     14267   Pave   \n",
       "3      4  526353030           20        RL          93.0     11160   Pave   \n",
       "4      5  527105010           60        RL          74.0     13830   Pave   \n",
       "\n",
       "  Alley Lot.Shape Land.Contour    ...     Pool.Area Pool.QC  Fence  \\\n",
       "0   NaN       IR1          Lvl    ...             0     NaN    NaN   \n",
       "1   NaN       Reg          Lvl    ...             0     NaN  MnPrv   \n",
       "2   NaN       IR1          Lvl    ...             0     NaN    NaN   \n",
       "3   NaN       Reg          Lvl    ...             0     NaN    NaN   \n",
       "4   NaN       IR1          Lvl    ...             0     NaN  MnPrv   \n",
       "\n",
       "  Misc.Feature Misc.Val Mo.Sold Yr.Sold Sale.Type  Sale.Condition  SalePrice  \n",
       "0          NaN        0       5    2010       WD           Normal     215000  \n",
       "1          NaN        0       6    2010       WD           Normal     105000  \n",
       "2         Gar2    12500       6    2010       WD           Normal     172000  \n",
       "3          NaN        0       4    2010       WD           Normal     244000  \n",
       "4          NaN        0       3    2010       WD           Normal     189900  \n",
       "\n",
       "[5 rows x 82 columns]"
      ]
     },
     "execution_count": 2,
     "metadata": {},
     "output_type": "execute_result"
    }
   ],
   "source": [
    "# load data into dataframe\n",
    "ames = pd.read_csv(\"https://www.openintro.org/stat/data/ames.csv\")\n",
    "ames.head()"
   ]
  },
  {
   "cell_type": "markdown",
   "metadata": {},
   "source": [
    "We see that there are quite a few variables in the data set, enough to do a very in-depth analysis. For this lab, we’ll restrict our attention to just two of the variables: the above ground living area of the house in square feet (`Gr.Liv.Area`) and the sale price (`SalePrice`). To save some effort throughout the lab, create two variables with short names that represent these two variables. We will also remove the the periods from all the column names."
   ]
  },
  {
   "cell_type": "code",
   "execution_count": 6,
   "metadata": {
    "collapsed": false
   },
   "outputs": [
    {
     "data": {
      "text/html": [
       "<div>\n",
       "<table border=\"1\" class=\"dataframe\">\n",
       "  <thead>\n",
       "    <tr style=\"text-align: right;\">\n",
       "      <th></th>\n",
       "      <th>Order</th>\n",
       "      <th>PID</th>\n",
       "      <th>MSSubClass</th>\n",
       "      <th>MSZoning</th>\n",
       "      <th>LotFrontage</th>\n",
       "      <th>LotArea</th>\n",
       "      <th>Street</th>\n",
       "      <th>Alley</th>\n",
       "      <th>LotShape</th>\n",
       "      <th>LandContour</th>\n",
       "      <th>...</th>\n",
       "      <th>PoolArea</th>\n",
       "      <th>PoolQC</th>\n",
       "      <th>Fence</th>\n",
       "      <th>MiscFeature</th>\n",
       "      <th>MiscVal</th>\n",
       "      <th>MoSold</th>\n",
       "      <th>YrSold</th>\n",
       "      <th>SaleType</th>\n",
       "      <th>SaleCondition</th>\n",
       "      <th>SalePrice</th>\n",
       "    </tr>\n",
       "  </thead>\n",
       "  <tbody>\n",
       "    <tr>\n",
       "      <th>0</th>\n",
       "      <td>1</td>\n",
       "      <td>526301100</td>\n",
       "      <td>20</td>\n",
       "      <td>RL</td>\n",
       "      <td>141.0</td>\n",
       "      <td>31770</td>\n",
       "      <td>Pave</td>\n",
       "      <td>NaN</td>\n",
       "      <td>IR1</td>\n",
       "      <td>Lvl</td>\n",
       "      <td>...</td>\n",
       "      <td>0</td>\n",
       "      <td>NaN</td>\n",
       "      <td>NaN</td>\n",
       "      <td>NaN</td>\n",
       "      <td>0</td>\n",
       "      <td>5</td>\n",
       "      <td>2010</td>\n",
       "      <td>WD</td>\n",
       "      <td>Normal</td>\n",
       "      <td>215000</td>\n",
       "    </tr>\n",
       "    <tr>\n",
       "      <th>1</th>\n",
       "      <td>2</td>\n",
       "      <td>526350040</td>\n",
       "      <td>20</td>\n",
       "      <td>RH</td>\n",
       "      <td>80.0</td>\n",
       "      <td>11622</td>\n",
       "      <td>Pave</td>\n",
       "      <td>NaN</td>\n",
       "      <td>Reg</td>\n",
       "      <td>Lvl</td>\n",
       "      <td>...</td>\n",
       "      <td>0</td>\n",
       "      <td>NaN</td>\n",
       "      <td>MnPrv</td>\n",
       "      <td>NaN</td>\n",
       "      <td>0</td>\n",
       "      <td>6</td>\n",
       "      <td>2010</td>\n",
       "      <td>WD</td>\n",
       "      <td>Normal</td>\n",
       "      <td>105000</td>\n",
       "    </tr>\n",
       "    <tr>\n",
       "      <th>2</th>\n",
       "      <td>3</td>\n",
       "      <td>526351010</td>\n",
       "      <td>20</td>\n",
       "      <td>RL</td>\n",
       "      <td>81.0</td>\n",
       "      <td>14267</td>\n",
       "      <td>Pave</td>\n",
       "      <td>NaN</td>\n",
       "      <td>IR1</td>\n",
       "      <td>Lvl</td>\n",
       "      <td>...</td>\n",
       "      <td>0</td>\n",
       "      <td>NaN</td>\n",
       "      <td>NaN</td>\n",
       "      <td>Gar2</td>\n",
       "      <td>12500</td>\n",
       "      <td>6</td>\n",
       "      <td>2010</td>\n",
       "      <td>WD</td>\n",
       "      <td>Normal</td>\n",
       "      <td>172000</td>\n",
       "    </tr>\n",
       "    <tr>\n",
       "      <th>3</th>\n",
       "      <td>4</td>\n",
       "      <td>526353030</td>\n",
       "      <td>20</td>\n",
       "      <td>RL</td>\n",
       "      <td>93.0</td>\n",
       "      <td>11160</td>\n",
       "      <td>Pave</td>\n",
       "      <td>NaN</td>\n",
       "      <td>Reg</td>\n",
       "      <td>Lvl</td>\n",
       "      <td>...</td>\n",
       "      <td>0</td>\n",
       "      <td>NaN</td>\n",
       "      <td>NaN</td>\n",
       "      <td>NaN</td>\n",
       "      <td>0</td>\n",
       "      <td>4</td>\n",
       "      <td>2010</td>\n",
       "      <td>WD</td>\n",
       "      <td>Normal</td>\n",
       "      <td>244000</td>\n",
       "    </tr>\n",
       "    <tr>\n",
       "      <th>4</th>\n",
       "      <td>5</td>\n",
       "      <td>527105010</td>\n",
       "      <td>60</td>\n",
       "      <td>RL</td>\n",
       "      <td>74.0</td>\n",
       "      <td>13830</td>\n",
       "      <td>Pave</td>\n",
       "      <td>NaN</td>\n",
       "      <td>IR1</td>\n",
       "      <td>Lvl</td>\n",
       "      <td>...</td>\n",
       "      <td>0</td>\n",
       "      <td>NaN</td>\n",
       "      <td>MnPrv</td>\n",
       "      <td>NaN</td>\n",
       "      <td>0</td>\n",
       "      <td>3</td>\n",
       "      <td>2010</td>\n",
       "      <td>WD</td>\n",
       "      <td>Normal</td>\n",
       "      <td>189900</td>\n",
       "    </tr>\n",
       "  </tbody>\n",
       "</table>\n",
       "<p>5 rows × 82 columns</p>\n",
       "</div>"
      ],
      "text/plain": [
       "   Order        PID  MSSubClass MSZoning  LotFrontage  LotArea Street Alley  \\\n",
       "0      1  526301100          20       RL        141.0    31770   Pave   NaN   \n",
       "1      2  526350040          20       RH         80.0    11622   Pave   NaN   \n",
       "2      3  526351010          20       RL         81.0    14267   Pave   NaN   \n",
       "3      4  526353030          20       RL         93.0    11160   Pave   NaN   \n",
       "4      5  527105010          60       RL         74.0    13830   Pave   NaN   \n",
       "\n",
       "  LotShape LandContour    ...     PoolArea PoolQC  Fence MiscFeature MiscVal  \\\n",
       "0      IR1         Lvl    ...            0    NaN    NaN         NaN       0   \n",
       "1      Reg         Lvl    ...            0    NaN  MnPrv         NaN       0   \n",
       "2      IR1         Lvl    ...            0    NaN    NaN        Gar2   12500   \n",
       "3      Reg         Lvl    ...            0    NaN    NaN         NaN       0   \n",
       "4      IR1         Lvl    ...            0    NaN  MnPrv         NaN       0   \n",
       "\n",
       "  MoSold YrSold SaleType  SaleCondition  SalePrice  \n",
       "0      5   2010      WD          Normal     215000  \n",
       "1      6   2010      WD          Normal     105000  \n",
       "2      6   2010      WD          Normal     172000  \n",
       "3      4   2010      WD          Normal     244000  \n",
       "4      3   2010      WD          Normal     189900  \n",
       "\n",
       "[5 rows x 82 columns]"
      ]
     },
     "execution_count": 6,
     "metadata": {},
     "output_type": "execute_result"
    }
   ],
   "source": [
    "# remove special characters from variable names\n",
    "ames.columns = [c.replace(\".\",\"\") for c in ames.columns]\n",
    "area = ames[\"GrLivArea\"]\n",
    "price = ames[\"SalePrice\"]\n",
    "ames.head()"
   ]
  },
  {
   "cell_type": "markdown",
   "metadata": {},
   "source": [
    "Let’s look at the distribution of area in our population of home sales by calculating a few summary statistics and making a histogram."
   ]
  },
  {
   "cell_type": "code",
   "execution_count": 7,
   "metadata": {
    "collapsed": false
   },
   "outputs": [
    {
     "data": {
      "text/plain": [
       "count    2930.000000\n",
       "mean     1499.690444\n",
       "std       505.508887\n",
       "min       334.000000\n",
       "25%      1126.000000\n",
       "50%      1442.000000\n",
       "75%      1742.750000\n",
       "max      5642.000000\n",
       "Name: GrLivArea, dtype: float64"
      ]
     },
     "execution_count": 7,
     "metadata": {},
     "output_type": "execute_result"
    }
   ],
   "source": [
    "area.describe()"
   ]
  },
  {
   "cell_type": "code",
   "execution_count": 8,
   "metadata": {
    "collapsed": false
   },
   "outputs": [
    {
     "data": {
      "text/plain": [
       "<matplotlib.text.Text at 0x9bdb43cbe0>"
      ]
     },
     "execution_count": 8,
     "metadata": {},
     "output_type": "execute_result"
    },
    {
     "data": {
      "image/png": "[encoded data removed]",
      "text/plain": [
       "<matplotlib.figure.Figure at 0x9bdb413208>"
      ]
     },
     "metadata": {},
     "output_type": "display_data"
    }
   ],
   "source": [
    "area.hist(bins=range(0,6000,250), normed=True)\n",
    "plt.xlabel(\"Above Ground Living Area (Sq. ft.)\")\n",
    "plt.ylabel(\"Probability\")"
   ]
  },
  {
   "cell_type": "markdown",
   "metadata": {},
   "source": [
    "### Exercise 1\n",
    "Describe the population distribution of above ground living area (shown above)."
   ]
  },
  {
   "cell_type": "markdown",
   "metadata": {},
   "source": [
    "## The unknown sampling distribution\n",
    "This example has the whole population of interest, but usually we do not have access to the population data and depend on sample data. Because of this, we often take a sample of the population and use that to understand the properties of the population.\n",
    "\n",
    "If we were interested in estimating the mean living area in Ames based on a sample, we can use the following command to survey the population."
   ]
  },
  {
   "cell_type": "code",
   "execution_count": 9,
   "metadata": {
    "collapsed": false
   },
   "outputs": [],
   "source": [
    "samp1 = area.sample(50)"
   ]
  },
  {
   "cell_type": "markdown",
   "metadata": {},
   "source": [
    "This command collects a simple random sample of size 50 from the pandas.Series `area`, which is assigned to `samp1`. This is like going into the City Assessor’s database and pulling up the files on 50 random home sales. Working with these 50 files would be considerably simpler than working with all 2930 home sales."
   ]
  },
  {
   "cell_type": "code",
   "execution_count": 10,
   "metadata": {
    "collapsed": false
   },
   "outputs": [
    {
     "data": {
      "text/plain": [
       "<matplotlib.text.Text at 0x9bd7adf2e8>"
      ]
     },
     "execution_count": 10,
     "metadata": {},
     "output_type": "execute_result"
    },
    {
     "data": {
      "image/png": "[encoded data removed]",
      "text/plain": [
       "<matplotlib.figure.Figure at 0x9bdb413f60>"
      ]
     },
     "metadata": {},
     "output_type": "display_data"
    }
   ],
   "source": [
    "samp1.hist(bins=range(0,6000,250), normed=True)\n",
    "plt.xlabel(\"Above Ground Living Area (Sq. ft.)\")\n",
    "plt.ylabel(\"Probability\")"
   ]
  },
  {
   "cell_type": "markdown",
   "metadata": {},
   "source": [
    "### Exercise 2\n",
    "Describe the distribution of this sample. How does it compare to the distribution of the population?"
   ]
  },
  {
   "cell_type": "markdown",
   "metadata": {},
   "source": [
    "If we’re interested in estimating the average living area in homes in Ames using the sample, our best single guess is the sample mean."
   ]
  },
  {
   "cell_type": "code",
   "execution_count": 11,
   "metadata": {
    "collapsed": false
   },
   "outputs": [
    {
     "data": {
      "text/plain": [
       "1394.06"
      ]
     },
     "execution_count": 11,
     "metadata": {},
     "output_type": "execute_result"
    }
   ],
   "source": [
    "samp1.mean()"
   ]
  },
  {
   "cell_type": "markdown",
   "metadata": {},
   "source": [
    "Depending on which 50 homes you selected, your estimate could be a bit above or a bit below the true population mean of 1499.69 square feet. In general, though, the sample mean turns out to be a pretty good estimate of the average living area, and we were able to get it by sampling less than 3% of the population."
   ]
  },
  {
   "cell_type": "markdown",
   "metadata": {},
   "source": [
    "### Exercise 3\n",
    "Take a second sample, also of size 50, and call it `samp2`. How does the mean of `samp2` compare with the mean of `samp1`? Suppose we took two more samples, one of size 100 and one of size 1000. Which would you think would provide a more accurate estimate of the population mean?"
   ]
  },
  {
   "cell_type": "markdown",
   "metadata": {},
   "source": [
    "samp2 = area.sample(50)"
   ]
  },
  {
   "cell_type": "code",
   "execution_count": 13,
   "metadata": {
    "collapsed": false
   },
   "outputs": [
    {
     "data": {
      "text/plain": [
       "1577.86"
      ]
     },
     "execution_count": 13,
     "metadata": {},
     "output_type": "execute_result"
    }
   ],
   "source": [
    "samp2 = area.sample(50)\n",
    "samp2.mean()"
   ]
  },
  {
   "cell_type": "markdown",
   "metadata": {},
   "source": [
    "Not surprisingly, every time we take another random sample, we get a different sample mean. It’s useful to get a sense of just how much variability we should expect when estimating the population mean this way. The distribution of sample means, called the *sampling distribution*, can help us understand this variability. In this lab, because we have access to the population, we can build up the sampling distribution for the sample mean by repeating the above steps many times. Here we will generate 5000 samples and compute the sample mean of each."
   ]
  },
  {
   "cell_type": "code",
   "execution_count": 18,
   "metadata": {
    "collapsed": false
   },
   "outputs": [
    {
     "data": {
      "text/plain": [
       "(array([   6.,    8.,   14.,   33.,   62.,  102.,  142.,  214.,  319.,\n",
       "         335.,  406.,  463.,  482.,  474.,  445.,  368.,  313.,  253.,\n",
       "         180.,  128.,   85.,   54.,   51.,   29.,   15.,    8.,    6.,\n",
       "           1.,    3.,    1.]),\n",
       " array([ 1280.74      ,  1297.57266667,  1314.40533333,  1331.238     ,\n",
       "         1348.07066667,  1364.90333333,  1381.736     ,  1398.56866667,\n",
       "         1415.40133333,  1432.234     ,  1449.06666667,  1465.89933333,\n",
       "         1482.732     ,  1499.56466667,  1516.39733333,  1533.23      ,\n",
       "         1550.06266667,  1566.89533333,  1583.728     ,  1600.56066667,\n",
       "         1617.39333333,  1634.226     ,  1651.05866667,  1667.89133333,\n",
       "         1684.724     ,  1701.55666667,  1718.38933333,  1735.222     ,\n",
       "         1752.05466667,  1768.88733333,  1785.72      ]),\n",
       " <a list of 30 Patch objects>)"
      ]
     },
     "execution_count": 18,
     "metadata": {},
     "output_type": "execute_result"
    },
    {
     "data": {
      "image/png": "[encoded data removed]",
      "text/plain": [
       "<matplotlib.figure.Figure at 0x9bdb7ffbe0>"
      ]
     },
     "metadata": {},
     "output_type": "display_data"
    }
   ],
   "source": [
    "# Generate 5000 samples and compute the mean of each to build a sampling distribution\n",
    "# for the sample mean.\n",
    "n = 50\n",
    "n_samples = 5000\n",
    "sample_means50 = [area.sample(n).mean() for i in range(n_samples)]\n",
    "plt.hist(sample_means50, bins = 30)"
   ]
  },
  {
   "cell_type": "markdown",
   "metadata": {},
   "source": [
    "If you would like to adjust the bin width of your histogram to show a little more detail, you can do so by changing the `bins` argument."
   ]
  },
  {
   "cell_type": "code",
   "execution_count": 19,
   "metadata": {
    "collapsed": false
   },
   "outputs": [
    {
     "data": {
      "text/plain": [
       "(array([   7.,   12.,   25.,   59.,  122.,  171.,  300.,  412.,  455.,\n",
       "         541.,  570.,  569.,  490.,  402.,  304.,  211.,  145.,   76.,\n",
       "          60.,   35.,   17.,    8.,    5.,    2.,    2.]),\n",
       " array([ 1280.74  ,  1300.9392,  1321.1384,  1341.3376,  1361.5368,\n",
       "         1381.736 ,  1401.9352,  1422.1344,  1442.3336,  1462.5328,\n",
       "         1482.732 ,  1502.9312,  1523.1304,  1543.3296,  1563.5288,\n",
       "         1583.728 ,  1603.9272,  1624.1264,  1644.3256,  1664.5248,\n",
       "         1684.724 ,  1704.9232,  1725.1224,  1745.3216,  1765.5208,  1785.72  ]),\n",
       " <a list of 25 Patch objects>)"
      ]
     },
     "execution_count": 19,
     "metadata": {},
     "output_type": "execute_result"
    },
    {
     "data": {
      "image/png": "[encoded data removed]",
      "text/plain": [
       "<matplotlib.figure.Figure at 0x9bd7b4cfd0>"
      ]
     },
     "metadata": {},
     "output_type": "display_data"
    }
   ],
   "source": [
    "plt.hist(sample_means50, bins=25)"
   ]
  },
  {
   "cell_type": "markdown",
   "metadata": {},
   "source": [
    "Here we take 5000 samples of size 50 from the population, calculate the mean of each sample, and store each result in a list called `sample_means50`."
   ]
  },
  {
   "cell_type": "markdown",
   "metadata": {},
   "source": [
    "### Exercise 4\n",
    "How many elements are there in `sample_means50`? Describe the sampling distribution, and be sure to specifically note its center. Would you expect the distribution to change if we instead collected 50,000 sample means?"
   ]
  },
  {
   "cell_type": "markdown",
   "metadata": {},
   "source": [
    "There are 50 x 5000 elements = 250000.The center is around 1500. The distribution would not change much if we collected 50,000 sample means. See below. "
   ]
  },
  {
   "cell_type": "code",
   "execution_count": 20,
   "metadata": {
    "collapsed": false
   },
   "outputs": [
    {
     "data": {
      "text/plain": [
       "(array([  3.00000000e+00,   1.10000000e+01,   3.50000000e+01,\n",
       "          9.40000000e+01,   2.13000000e+02,   4.52000000e+02,\n",
       "          7.70000000e+02,   1.27600000e+03,   2.19600000e+03,\n",
       "          3.00400000e+03,   3.90700000e+03,   4.60000000e+03,\n",
       "          5.29800000e+03,   5.35800000e+03,   5.09400000e+03,\n",
       "          4.54500000e+03,   3.76000000e+03,   2.95900000e+03,\n",
       "          2.25100000e+03,   1.60600000e+03,   1.04200000e+03,\n",
       "          6.61000000e+02,   3.97000000e+02,   2.31000000e+02,\n",
       "          1.05000000e+02,   7.10000000e+01,   3.10000000e+01,\n",
       "          1.60000000e+01,   9.00000000e+00,   5.00000000e+00]),\n",
       " array([ 1239.38 ,  1258.334,  1277.288,  1296.242,  1315.196,  1334.15 ,\n",
       "         1353.104,  1372.058,  1391.012,  1409.966,  1428.92 ,  1447.874,\n",
       "         1466.828,  1485.782,  1504.736,  1523.69 ,  1542.644,  1561.598,\n",
       "         1580.552,  1599.506,  1618.46 ,  1637.414,  1656.368,  1675.322,\n",
       "         1694.276,  1713.23 ,  1732.184,  1751.138,  1770.092,  1789.046,\n",
       "         1808.   ]),\n",
       " <a list of 30 Patch objects>)"
      ]
     },
     "execution_count": 20,
     "metadata": {},
     "output_type": "execute_result"
    },
    {
     "data": {
      "image/png": "[encoded data removed]",
      "text/plain": [
       "<matplotlib.figure.Figure at 0x9bdb95bc18>"
      ]
     },
     "metadata": {},
     "output_type": "display_data"
    }
   ],
   "source": [
    "n = 50\n",
    "n_samples = 50000\n",
    "sample_means50 = [area.sample(n).mean() for i in range(n_samples)]\n",
    "plt.hist(sample_means50, bins = 30)"
   ]
  },
  {
   "cell_type": "markdown",
   "metadata": {},
   "source": [
    "### Exercise 5\n",
    "Create a variable named `sample_means_small` containing the sample means from 100 samples each of size 50. Print the variable to the screen. How many elements are there in this object called `sample_means_small`? What does each element represent?"
   ]
  },
  {
   "cell_type": "code",
   "execution_count": 25,
   "metadata": {
    "collapsed": false
   },
   "outputs": [
    {
     "name": "stdout",
     "output_type": "stream",
     "text": [
      "5000 elements\n"
     ]
    },
    {
     "data": {
      "text/plain": [
       "(array([  4.,  13.,   9.,  14.,  15.,  19.,   9.,  13.,   3.,   1.]),\n",
       " array([ 1383.52 ,  1411.082,  1438.644,  1466.206,  1493.768,  1521.33 ,\n",
       "         1548.892,  1576.454,  1604.016,  1631.578,  1659.14 ]),\n",
       " <a list of 10 Patch objects>)"
      ]
     },
     "execution_count": 25,
     "metadata": {},
     "output_type": "execute_result"
    },
    {
     "data": {
      "image/png": "[encoded data removed]",
      "text/plain": [
       "<matplotlib.figure.Figure at 0x9bdbd16320>"
      ]
     },
     "metadata": {},
     "output_type": "display_data"
    }
   ],
   "source": [
    "n = 50\n",
    "n_samples = 100\n",
    "sample_means_small = [area.sample(n).mean() for i in range(n_samples)]\n",
    "print(str(n*n_samples) + \" elements\")\n",
    "plt.hist(sample_means_small,bins = 10)"
   ]
  },
  {
   "cell_type": "markdown",
   "metadata": {},
   "source": [
    "## Sample size and the samping distribution\n",
    "\n",
    "The sampling distribution that we computed tells us much about estimating the average living area in homes in Ames. Because the sample mean is an unbiased estimator, the sampling distribution is centered at the true average living area of the the population, and the spread of the distribution indicates how much variability is induced by sampling only 50 home sales.\n",
    "\n",
    "To get a sense of the effect that sample size has on our distribution, let’s build up two more sampling distributions: one based on a sample size of 10 and another based on a sample size of 100."
   ]
  },
  {
   "cell_type": "code",
   "execution_count": 26,
   "metadata": {
    "collapsed": false
   },
   "outputs": [],
   "source": [
    "# Generate sampling distributions with different sample sizes.\n",
    "sample_sizes = [10, 50, 100]\n",
    "n_samples = 5000\n",
    "sample_means = {}\n",
    "for n in sample_sizes:\n",
    "    sample_means[n] = [area.sample(n).mean() for i in range(n_samples)]"
   ]
  },
  {
   "cell_type": "markdown",
   "metadata": {},
   "source": [
    "To see the effect that different sample sizes have on the sampling distribution, plot the three distributions on top of one another."
   ]
  },
  {
   "cell_type": "code",
   "execution_count": 28,
   "metadata": {
    "collapsed": false
   },
   "outputs": [
    {
     "name": "stdout",
     "output_type": "stream",
     "text": [
      "Help on class enumerate in module builtins:\n",
      "\n",
      "class enumerate(object)\n",
      " |  enumerate(iterable[, start]) -> iterator for index, value of iterable\n",
      " |  \n",
      " |  Return an enumerate object.  iterable must be another object that supports\n",
      " |  iteration.  The enumerate object yields pairs containing a count (from\n",
      " |  start, which defaults to zero) and a value yielded by the iterable argument.\n",
      " |  enumerate is useful for obtaining an indexed list:\n",
      " |      (0, seq[0]), (1, seq[1]), (2, seq[2]), ...\n",
      " |  \n",
      " |  Methods defined here:\n",
      " |  \n",
      " |  __getattribute__(self, name, /)\n",
      " |      Return getattr(self, name).\n",
      " |  \n",
      " |  __iter__(self, /)\n",
      " |      Implement iter(self).\n",
      " |  \n",
      " |  __new__(*args, **kwargs) from builtins.type\n",
      " |      Create and return a new object.  See help(type) for accurate signature.\n",
      " |  \n",
      " |  __next__(self, /)\n",
      " |      Implement next(self).\n",
      " |  \n",
      " |  __reduce__(...)\n",
      " |      Return state information for pickling.\n",
      "\n"
     ]
    }
   ],
   "source": [
    "help (enumerate)"
   ]
  },
  {
   "cell_type": "code",
   "execution_count": 29,
   "metadata": {
    "collapsed": false
   },
   "outputs": [
    {
     "data": {
      "image/png": "[encoded data removed]",
      "text/plain": [
       "<matplotlib.figure.Figure at 0x9bdbd1e748>"
      ]
     },
     "metadata": {},
     "output_type": "display_data"
    }
   ],
   "source": [
    "def _gauss(x, mu=0, sigma=1):\n",
    "    return 1/(sigma*np.sqrt(2*np.pi)) * np.exp(-0.5*pow((x-mu)/sigma,2))\n",
    "gauss = np.vectorize(_gauss)\n",
    "\n",
    "\n",
    "fig = plt.figure()\n",
    "xlim = [1000, 2000] \n",
    "\n",
    "sigma = area.std()\n",
    "mu = area.mean()\n",
    "dx = np.linspace(*xlim)\n",
    "\n",
    "for i,n in enumerate(sample_sizes):\n",
    "    g = fig.add_subplot(3, 1, i+1)\n",
    "    g.hist(sample_means[n], label=\"n={:n}\".format(n), normed=True)\n",
    "    g.plot(dx, gauss(dx, mu, sigma/np.sqrt(n)))\n",
    "    g.set_xlim(*xlim)\n",
    "    g.legend(loc=\"upper right\", fontsize=10)\n"
   ]
  },
  {
   "cell_type": "markdown",
   "metadata": {},
   "source": [
    "### Exercise 6\n",
    "When the sample size is larger, what happens to the center? What about the spread?"
   ]
  },
  {
   "cell_type": "markdown",
   "metadata": {},
   "source": [
    "### Exercise 7\n",
    "\n",
    "So far, we have only focused on estimating the mean living area in homes in Ames. Now you’ll try to estimate the mean home price.\n",
    "\n",
    "1. Take a random sample of size 50 from `price`. Using this sample, what is your best point estimate of the population mean?\n",
    "\n",
    "2. Since you have access to the population, simulate the sampling distribution for $\\bar{x}_{price}$ by taking 5000 samples from the population of size 50 and computing 5000 sample means. Store these means in a vector called `sample_means50`. Plot the data, then describe the shape of this sampling distribution. Based on this sampling distribution, what would you guess the mean home price of the population to be? Finally, calculate and report the population mean.\n",
    "\n",
    "3. Change your sample size from 50 to 150, then compute the sampling distribution using the same method as above, and store these means in a new vector called `sample_means150`. Describe the shape of this sampling distribution, and compare it to the sampling distribution for a sample size of 50. Based on this sampling distribution, what would you guess to be the mean sale price of homes in Ames?\n",
    "\n",
    "4. Of the sampling distributions from 2 and 3, which has a smaller spread? If we’re concerned with making estimates that are more often close to the true value, would we prefer a distribution with a large or small spread?"
   ]
  },
  {
   "cell_type": "markdown",
   "metadata": {},
   "source": []
  },
  {
   "cell_type": "code",
   "execution_count": 30,
   "metadata": {
    "collapsed": false
   },
   "outputs": [
    {
     "data": {
      "text/plain": [
       "189419.44"
      ]
     },
     "execution_count": 30,
     "metadata": {},
     "output_type": "execute_result"
    }
   ],
   "source": [
    "price_samp = price.sample(50)\n",
    "price_samp.mean()"
   ]
  },
  {
   "cell_type": "code",
   "execution_count": 31,
   "metadata": {
    "collapsed": false
   },
   "outputs": [
    {
     "data": {
      "text/plain": [
       "(array([   2.,    7.,   17.,   52.,  122.,  221.,  370.,  518.,  607.,\n",
       "         674.,  614.,  517.,  417.,  349.,  198.,  152.,   83.,   37.,\n",
       "          20.,    8.,    9.,    4.,    1.,    0.,    1.]),\n",
       " array([ 139517.7  ,  143611.801,  147705.902,  151800.003,  155894.104,\n",
       "         159988.205,  164082.306,  168176.407,  172270.508,  176364.609,\n",
       "         180458.71 ,  184552.811,  188646.912,  192741.013,  196835.114,\n",
       "         200929.215,  205023.316,  209117.417,  213211.518,  217305.619,\n",
       "         221399.72 ,  225493.821,  229587.922,  233682.023,  237776.124,\n",
       "         241870.225]),\n",
       " <a list of 25 Patch objects>)"
      ]
     },
     "execution_count": 31,
     "metadata": {},
     "output_type": "execute_result"
    },
    {
     "data": {
      "image/png": "[encoded data removed]",
      "text/plain": [
       "<matplotlib.figure.Figure at 0x9bdbd2e860>"
      ]
     },
     "metadata": {},
     "output_type": "display_data"
    }
   ],
   "source": [
    "n = 50\n",
    "n_samples = 5000\n",
    "sample_means50 = [price.sample(n).mean() for i in range(n_samples)]\n",
    "plt.hist(sample_means50, bins = 25)"
   ]
  },
  {
   "cell_type": "code",
   "execution_count": 33,
   "metadata": {
    "collapsed": false
   },
   "outputs": [
    {
     "data": {
      "text/plain": [
       "(array([   2.,    4.,    6.,   25.,   63.,  132.,  188.,  266.,  342.,\n",
       "         463.,  585.,  540.,  553.,  509.,  431.,  314.,  245.,  142.,\n",
       "          86.,   41.,   36.,   17.,    7.,    2.,    1.]),\n",
       " array([ 159142.92      ,  160967.38373333,  162791.84746667,\n",
       "         164616.3112    ,  166440.77493333,  168265.23866667,\n",
       "         170089.7024    ,  171914.16613333,  173738.62986667,\n",
       "         175563.0936    ,  177387.55733333,  179212.02106667,\n",
       "         181036.4848    ,  182860.94853333,  184685.41226667,\n",
       "         186509.876     ,  188334.33973333,  190158.80346667,\n",
       "         191983.2672    ,  193807.73093333,  195632.19466667,\n",
       "         197456.6584    ,  199281.12213333,  201105.58586667,\n",
       "         202930.0496    ,  204754.51333333]),\n",
       " <a list of 25 Patch objects>)"
      ]
     },
     "execution_count": 33,
     "metadata": {},
     "output_type": "execute_result"
    },
    {
     "data": {
      "image/png": "[encoded data removed]",
      "text/plain": [
       "<matplotlib.figure.Figure at 0x9bdba65c50>"
      ]
     },
     "metadata": {},
     "output_type": "display_data"
    }
   ],
   "source": [
    "n = 150\n",
    "n_samples = 5000\n",
    "sample_means150 = [price.sample(n).mean() for i in range(n_samples)]\n",
    "plt.hist(sample_means50, bins = 25)"
   ]
  },
  {
   "cell_type": "markdown",
   "metadata": {},
   "source": [
    "# Confidence Intervals\n",
    "\n",
    "Copied and adapted from OpenStats Intro [\"Foundations for statistical inference - Confidence intervals\" lab](http://htmlpreview.github.io/?https://github.com/andrewpbray/oiLabs-base-R/blob/master/confidence_intervals/confidence_intervals.html), a product of OpenIntro that is released under a [Creative Commons Attribution-ShareAlike 3.0 Unported](http://creativecommons.org/licenses/by-sa/3.0). Original lab written for OpenIntro by Andrew Bray and Mine Çetinkaya-Rundel.\n",
    "\n",
    "## Sampling from Ames, Iowa\n",
    "\n",
    "If you have access to data on an entire population, say the size of every house in Ames, Iowa, it’s straight forward to answer questions like, “How big is the typical house in Ames?” and “How much variation is there in sizes of houses?”. If you have access to only a sample of the population, as is often the case, the task becomes more complicated. What is your best guess for the typical size if you only know the sizes of several dozen houses? This sort of situation requires that you use your sample to make inference on what your population looks like.\n",
    "\n",
    "## The data\n",
    "\n",
    "In this lab we’ll start with a simple random sample of size 60 from the population. Specifically, this is a simple random sample of size 60. Note that the data set has information on many housing variables, but for the first portion of the lab we’ll focus on the size of the house, represented by the variable `GrLivArea`."
   ]
  },
  {
   "cell_type": "code",
   "execution_count": 39,
   "metadata": {
    "collapsed": false
   },
   "outputs": [
    {
     "data": {
      "text/plain": [
       "<matplotlib.axes._subplots.AxesSubplot at 0x9bdc0dd860>"
      ]
     },
     "execution_count": 39,
     "metadata": {},
     "output_type": "execute_result"
    },
    {
     "data": {
      "image/png": "[encoded data removed]",
      "text/plain": [
       "<matplotlib.figure.Figure at 0x9bdbb8b2e8>"
      ]
     },
     "metadata": {},
     "output_type": "display_data"
    }
   ],
   "source": [
    "population = ames[\"GrLivArea\"]\n",
    "n = 60\n",
    "samp = population.sample(n)\n",
    "samp.hist(bins = 10)"
   ]
  },
  {
   "cell_type": "markdown",
   "metadata": {},
   "source": [
    "### Exercise 1\n",
    "Describe the distribution of your sample. What would you say is the “typical” size within your sample? Also state precisely what you interpreted “typical” to mean."
   ]
  },
  {
   "cell_type": "code",
   "execution_count": 36,
   "metadata": {
    "collapsed": false
   },
   "outputs": [
    {
     "data": {
      "text/plain": [
       "1490.3833333333334"
      ]
     },
     "execution_count": 36,
     "metadata": {},
     "output_type": "execute_result"
    }
   ],
   "source": [
    "samp.mean()"
   ]
  },
  {
   "cell_type": "markdown",
   "metadata": {},
   "source": [
    "### Exercise 2\n",
    "Would you expect another student’s distribution to be identical to yours? Would you expect it to be similar? Why or why not?"
   ]
  },
  {
   "cell_type": "markdown",
   "metadata": {},
   "source": [
    "## Confidence intervals\n",
    "One of the most common ways to describe the typical or central value of a distribution is to use the mean. In this case we can calculate the mean of the sample using,"
   ]
  },
  {
   "cell_type": "code",
   "execution_count": 37,
   "metadata": {
    "collapsed": true
   },
   "outputs": [],
   "source": [
    "sample_mean = samp.mean()"
   ]
  },
  {
   "cell_type": "markdown",
   "metadata": {},
   "source": [
    "Return for a moment to the question that first motivated this lab: based on this sample, what can we infer about the population? Based only on this single sample, the best estimate of the average living area of houses sold in Ames would be the sample mean, usually denoted as $\\bar{x}$ (here we’re calling it `sample_mean`). That serves as a good point estimate but it would be useful to also communicate how uncertain we are of that estimate. This can be captured by using a *confidence interval*.\n",
    "\n",
    "We can calculate a 95% confidence interval for a sample mean by adding and subtracting 1.96 standard errors to the point estimate (See Section 4.2.3 if you are unfamiliar with this formula)."
   ]
  },
  {
   "cell_type": "markdown",
   "metadata": {},
   "source": [
    "### Exercise 3\n",
    "1. Calculate the sample mean, $\\bar{x}$. This is a point estimate of the population mean. Calculate the 95% confidence interval of this estimate using the formula $\\bar{x} \\pm 1.96 \\times SE$ where the standard error $SE = \\frac{\\sigma}{\\sqrt{n}} \\approx \\frac{s}{\\sqrt{n}}$ (equations 4.12 and 4.4 in [OpenIntro Statistics](https://www.openintro.org/stat/textbook.php}). This is an important inference that we’ve just made: even though we don’t know what the full population looks like, we’re 95% confident that the true average size of houses in Ames lies between the values lower and upper. There are a few conditions that must be met for this interval to be valid.\n",
    "\n",
    "2. For the confidence interval to be valid, the sample mean must be normally distributed and have standard error $\\frac{s}{\\sqrt{n}}$ What conditions must be met for this to be true?"
   ]
  },
  {
   "cell_type": "code",
   "execution_count": 42,
   "metadata": {
    "collapsed": false
   },
   "outputs": [
    {
     "name": "stdout",
     "output_type": "stream",
     "text": [
      "The mean house size in sq ft is between 1437.73568821 and 1697.23097846\n"
     ]
    }
   ],
   "source": [
    "sample_mean = samp.mean()\n",
    "standard_deviation = np.std(samp)\n",
    "standard_error = standard_deviation/np.sqrt(n)\n",
    "upperCI = sample_mean + (1.96*standard_error)\n",
    "lowerCI = sample_mean - (1.96*standard_error)\n",
    "print(\"The mean house size in sq ft is between \" + str(lowerCI) + \" and \" + str(upperCI))\n"
   ]
  },
  {
   "cell_type": "markdown",
   "metadata": {},
   "source": [
    "## Confidence levels"
   ]
  },
  {
   "cell_type": "markdown",
   "metadata": {},
   "source": [
    "### Exercise 4\n",
    "What does \"95% confidence\" mean? (See [OpenIntro Statistics](https://www.openintro.org/stat/textbook.php) section 4.2.2)"
   ]
  },
  {
   "cell_type": "markdown",
   "metadata": {},
   "source": [
    "### Exercise 5\n",
    "Calculate the population mean. Does your confidence interval capture the true average size of houses in Ames? Does your neighbor's interval capture this value?"
   ]
  },
  {
   "cell_type": "code",
   "execution_count": 43,
   "metadata": {
    "collapsed": false
   },
   "outputs": [
    {
     "data": {
      "text/plain": [
       "1499.6904436860068"
      ]
     },
     "execution_count": 43,
     "metadata": {},
     "output_type": "execute_result"
    }
   ],
   "source": [
    "area.mean()"
   ]
  },
  {
   "cell_type": "markdown",
   "metadata": {},
   "source": [
    "### Exercise 6\n",
    "Each student in the class should have gotten a slightly different confidence interval. What proportion of those intervals would you expect to capture the true population mean? Why? Collect data on the intervals created by other students in the class and calculate the proportion of intervals that capture the true population mean."
   ]
  },
  {
   "cell_type": "markdown",
   "metadata": {},
   "source": [
    "### Exercise 7\n",
    "Write a for-loop or list comprehension thats selects a random sample of size 60, then calculates and stores the sample's mean and standard deviation, for a total of 50 samples. Use the stored statistics to calculate 95% confidence intervals for the 50 random samples. Is the population mean captured in every confidence interval?\n",
    "    "
   ]
  },
  {
   "cell_type": "code",
   "execution_count": 68,
   "metadata": {
    "collapsed": false
   },
   "outputs": [
    {
     "name": "stdout",
     "output_type": "stream",
     "text": [
      "4.0 percent of intervals do not capture the population mean\n",
      "[(1412.374942942746, 1667.2250570572539), (1420.320186144927, 1619.9131471884061), (1299.9535307864126, 1531.5464692135874), (1360.0227316498974, 1546.7106016834357), (1429.3721794954627, 1674.9278205045375), (1503.2955664833737, 1777.6044335166264), (1364.8060752152605, 1733.8939247847393), (1478.6832064955979, 1761.5167935044019), (1392.3390263100246, 1620.3943070233086), (1475.0776741368345, 1734.8556591964989), (1329.6510722369014, 1577.0155944297651), (1394.8720199084194, 1652.0946467582473), (1370.5348176374303, 1615.2985156959032), (1329.1173616635392, 1545.3493050031275), (1354.4964403612905, 1600.9368929720429), (1429.1411155525029, 1669.3588844474971), (1334.1523634896064, 1611.1143031770605), (1358.9723335550002, 1581.2276664449996), (1376.264027431286, 1680.9026392353805), (1469.8854139527189, 1756.0479193806145), (1393.8136619199274, 1780.5196714134061), (1433.547078229386, 1778.3529217706141), (1404.0726326764739, 1639.0273673235261), (1430.4205432962251, 1692.3461233704418), (1406.228647139046, 1619.8713528609539), (1401.4107735218558, 1677.6225598114775), (1368.4242600181994, 1595.5090733151339), (1437.7977267562385, 1715.8022732437614), (1410.0045055273258, 1668.5954944726741), (1355.261303135974, 1597.3720301973592), (1320.8872592141215, 1552.0460741192119), (1383.8267022351638, 1636.3399644315027), (1315.345778951249, 1653.4542210487512), (1318.9740603638104, 1547.7926063028565), (1346.2139605090431, 1586.7527061576236), (1238.6103431425599, 1428.5229901907733), (1431.6809367011979, 1742.8190632988021), (1360.329529491979, 1618.1371371746877), (1421.8900943260901, 1673.9765723405767), (1432.2853680539415, 1690.8479652793917), (1328.1137546113728, 1619.9195787219605), (1345.0896130260451, 1599.810386973955), (1313.6869458915444, 1539.1463874417891), (1418.2073621204659, 1668.892637879534), (1379.8318018872585, 1670.0681981127416), (1412.7400163911464, 1668.7933169421869), (1460.8304118132367, 1722.4362548534302), (1350.4840861818202, 1577.5492471515131), (1406.9851929230708, 1604.5814737435958), (1365.4547100724142, 1682.5452899275858)]\n"
     ]
    }
   ],
   "source": [
    "n = 60\n",
    "n_samples = 50\n",
    "population_mean = area.mean()\n",
    "type_A = 0\n",
    "confidence_intervals = []\n",
    "for i in range(n_samples):\n",
    "    sample = area.sample(n)\n",
    "    sample_mean = sample.mean()\n",
    "    sample_stdev = np.std(sample)\n",
    "    sample_standard_error = sample_stdev/np.sqrt(n)\n",
    "    confidence = [sample_mean - (1.96*sample_standard_error),sample_mean + (1.96*sample_standard_error)]\n",
    "    confidence_intervals.append(tuple(confidence))\n",
    "    #print (confidence)\n",
    "    if confidence[0] > population_mean or confidence[1] < population_mean:\n",
    "        type_A += 1\n",
    "print (str(round(type_A/n_samples*100,1)) + \" percent of intervals do not capture the population mean\")\n",
    "print (confidence_intervals)\n",
    "    "
   ]
  },
  {
   "cell_type": "markdown",
   "metadata": {},
   "source": [
    "### Exercise 8\n",
    "1. Use the following function to visualize all the confidence intervals. What proportion of the confidence intervals you calculated include the true population mean? Is this proportion exactly equal to the confidence level? If not, explain why.\n",
    "2. Pick a confidence level of your choosing, provided it is not 95%. What is the appropriate critical value?\n",
    "3. Calculate 50 confidence intervals at the confidence level you chose in the previous question. You do not need to obtain new samples, simply calculate new intervals based on the sample means and standard deviations you have already collected. Using the plot_ci function, plot all intervals and calculate the proportion of intervals that include the true population mean. How does this percentage compare to the confidence level selected for the intervals?"
   ]
  },
  {
   "cell_type": "code",
   "execution_count": 69,
   "metadata": {
    "collapsed": false
   },
   "outputs": [
    {
     "data": {
      "image/png": "[encoded data removed]",
      "text/plain": [
       "<matplotlib.figure.Figure at 0x9bdc25cd30>"
      ]
     },
     "metadata": {},
     "output_type": "display_data"
    }
   ],
   "source": [
    "def plot_ci(ci, mu):\n",
    "    \"\"\" Plot confidence intervals ci compared to population mean mu.\n",
    "        Each confidence interval is displayed as a horizontal line with mean marked by circle.\n",
    "        Confidence intervals not containing the population mean are thick and red.\n",
    "        \n",
    "        Args:\n",
    "            ci (list of tuples) -- a list of confidence intervals: (lower, upper)\n",
    "            mu (float) -- population mean\n",
    "    \"\"\"\n",
    "    fig = plt.figure()\n",
    "    g = fig.add_subplot(111)\n",
    "    for i, c in enumerate(ci):\n",
    "        y = i+1\n",
    "        if mu < c[0] or mu > c[1]:\n",
    "            color = 'r'\n",
    "            linewidth = 2\n",
    "        else:\n",
    "            color = 'k'\n",
    "            linewidth = 1\n",
    "        g.plot(c, [y]*2, color=color, linewidth=linewidth)\n",
    "        g.plot([sum(c)/2],[y], marker=\"o\", color=color)\n",
    "        \n",
    "    g.axvline(x=mu, linestyle=\"--\")\n",
    "    g.annotate(\"mu = {:n}\".format(mu), \n",
    "               xy=(mu, len(ci)+1), \n",
    "               color='b', \n",
    "               horizontalalignment=\"center\")\n",
    "    g.set_ylim(0, len(ci)+1)\n",
    "    g.yaxis.set_visible(False)\n",
    "    return \n",
    "\n",
    "plot_ci(confidence_intervals,population_mean)"
   ]
  },
  {
   "cell_type": "code",
   "execution_count": null,
   "metadata": {
    "collapsed": true
   },
   "outputs": [],
   "source": []
  }
 ],
 "metadata": {
  "kernelspec": {
   "display_name": "Python [default]",
   "language": "python",
   "name": "python3"
  },
  "language_info": {
   "codemirror_mode": {
    "name": "ipython",
    "version": 3
   },
   "file_extension": ".py",
   "mimetype": "text/x-python",
   "name": "python",
   "nbconvert_exporter": "python",
   "pygments_lexer": "ipython3",
   "version": "3.5.2"
  }
 },
 "nbformat": 4,
 "nbformat_minor": 0
}
