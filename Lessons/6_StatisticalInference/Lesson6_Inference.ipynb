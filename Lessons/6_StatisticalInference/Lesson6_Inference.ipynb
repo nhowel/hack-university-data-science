{
 "cells": [
  {
   "cell_type": "markdown",
   "metadata": {},
   "source": [
    "# Inference for Numerical Data\n",
    "Copied and adapted from OpenStats Intro [\"Inference for numerical data\" lab](http://htmlpreview.github.io/?https://github.com/andrewpbray/oiLabs-base-R/blob/master/inf_for_numerical_data/inf_for_numerical_data.html), a product of OpenIntro that is released under a [Creative Commons Attribution-ShareAlike 3.0 Unported](http://creativecommons.org/licenses/by-sa/3.0). Original lab was adapted for OpenIntro by Mine Çetinkaya-Rundel from a lab written by the faculty and TAs of UCLA Statistics.\n",
    "\n",
    "## North Carolina births\n",
    "\n",
    "In 2004, the state of North Carolina released a large data set containing information on births recorded in this state. This data set is useful to researchers studying the relation between habits and practices of expectant mothers and the birth of their children. We will work with a random sample of observations from this data set.\n",
    "\n",
    "The [data set](https://www.openintro.org/stat/data/?data=nc) contains 1000 randomly selected births from the birth records released by the state of North Carolina in 2004. "
   ]
  },
  {
   "cell_type": "code",
   "execution_count": 19,
   "metadata": {
    "collapsed": true
   },
   "outputs": [],
   "source": [
    "%matplotlib inline\n",
    "import matplotlib.pyplot as plt\n",
    "from scipy.stats import norm\n",
    "import pandas as pd\n",
    "import numpy as np\n",
    "import statsmodels.stats.weightstats\n",
    "# from __future__ import print_function # Python 2 users, uncomment this statement"
   ]
  },
  {
   "cell_type": "markdown",
   "metadata": {},
   "source": [
    "## Exploratory analysis"
   ]
  },
  {
   "cell_type": "markdown",
   "metadata": {},
   "source": [
    "Load the nc data set into the notebook."
   ]
  },
  {
   "cell_type": "code",
   "execution_count": 20,
   "metadata": {
    "collapsed": true
   },
   "outputs": [],
   "source": [
    "# load data into dataframe\n",
    "ncbirths = pd.read_csv(\"https://www.openintro.org/stat/data/nc.csv\")"
   ]
  },
  {
   "cell_type": "markdown",
   "metadata": {},
   "source": [
    "We have observations on 13 different variables, some categorical and some numerical. The meaning of each variable is as follows.\n",
    "\n",
    "|variable |\tdescription |\n",
    "|---------|-------------|\n",
    "|fage\t|father’s age in years.|\n",
    "|mage\t|mother’s age in years.|\n",
    "|mature\t|maturity status of mother.|\n",
    "|weeks\t|length of pregnancy in weeks.|\n",
    "|premie\t|whether the birth was classified as premature (premie) or full-term.|\n",
    "|visits\t|number of hospital visits during pregnancy.|\n",
    "|marital|\twhether mother is married or not married at birth.|\n",
    "|gained\t|weight gained by mother during pregnancy in pounds.|\n",
    "|weight\t|weight of the baby at birth in pounds.|\n",
    "|lowbirthweight\t|whether baby was classified as low birthweight (low) or not (not low).|\n",
    "|gender\t|gender of the baby, female or male.|\n",
    "|habit\t|status of the mother as a nonsmoker or a smoker.|\n",
    "|whitemom|\twhether mom is white or not white.|"
   ]
  },
  {
   "cell_type": "markdown",
   "metadata": {},
   "source": [
    "As a first step in the analysis, we should consider summaries of the data. This can be done using the `describe` command:"
   ]
  },
  {
   "cell_type": "code",
   "execution_count": 21,
   "metadata": {
    "collapsed": false
   },
   "outputs": [
    {
     "name": "stderr",
     "output_type": "stream",
     "text": [
      "C:\\Users\\natehow\\Anaconda3\\lib\\site-packages\\numpy\\lib\\function_base.py:3834: RuntimeWarning: Invalid value encountered in percentile\n",
      "  RuntimeWarning)\n"
     ]
    },
    {
     "data": {
      "text/html": [
       "<div>\n",
       "<table border=\"1\" class=\"dataframe\">\n",
       "  <thead>\n",
       "    <tr style=\"text-align: right;\">\n",
       "      <th></th>\n",
       "      <th>fage</th>\n",
       "      <th>mage</th>\n",
       "      <th>weeks</th>\n",
       "      <th>visits</th>\n",
       "      <th>gained</th>\n",
       "      <th>weight</th>\n",
       "    </tr>\n",
       "  </thead>\n",
       "  <tbody>\n",
       "    <tr>\n",
       "      <th>count</th>\n",
       "      <td>829.000000</td>\n",
       "      <td>1000.000000</td>\n",
       "      <td>998.000000</td>\n",
       "      <td>991.000000</td>\n",
       "      <td>973.000000</td>\n",
       "      <td>1000.00000</td>\n",
       "    </tr>\n",
       "    <tr>\n",
       "      <th>mean</th>\n",
       "      <td>30.255730</td>\n",
       "      <td>27.000000</td>\n",
       "      <td>38.334669</td>\n",
       "      <td>12.104945</td>\n",
       "      <td>30.325797</td>\n",
       "      <td>7.10100</td>\n",
       "    </tr>\n",
       "    <tr>\n",
       "      <th>std</th>\n",
       "      <td>6.763766</td>\n",
       "      <td>6.213583</td>\n",
       "      <td>2.931553</td>\n",
       "      <td>3.954934</td>\n",
       "      <td>14.241297</td>\n",
       "      <td>1.50886</td>\n",
       "    </tr>\n",
       "    <tr>\n",
       "      <th>min</th>\n",
       "      <td>14.000000</td>\n",
       "      <td>13.000000</td>\n",
       "      <td>20.000000</td>\n",
       "      <td>0.000000</td>\n",
       "      <td>0.000000</td>\n",
       "      <td>1.00000</td>\n",
       "    </tr>\n",
       "    <tr>\n",
       "      <th>25%</th>\n",
       "      <td>NaN</td>\n",
       "      <td>22.000000</td>\n",
       "      <td>NaN</td>\n",
       "      <td>NaN</td>\n",
       "      <td>NaN</td>\n",
       "      <td>6.38000</td>\n",
       "    </tr>\n",
       "    <tr>\n",
       "      <th>50%</th>\n",
       "      <td>NaN</td>\n",
       "      <td>27.000000</td>\n",
       "      <td>NaN</td>\n",
       "      <td>NaN</td>\n",
       "      <td>NaN</td>\n",
       "      <td>7.31000</td>\n",
       "    </tr>\n",
       "    <tr>\n",
       "      <th>75%</th>\n",
       "      <td>NaN</td>\n",
       "      <td>32.000000</td>\n",
       "      <td>NaN</td>\n",
       "      <td>NaN</td>\n",
       "      <td>NaN</td>\n",
       "      <td>8.06000</td>\n",
       "    </tr>\n",
       "    <tr>\n",
       "      <th>max</th>\n",
       "      <td>55.000000</td>\n",
       "      <td>50.000000</td>\n",
       "      <td>45.000000</td>\n",
       "      <td>30.000000</td>\n",
       "      <td>85.000000</td>\n",
       "      <td>11.75000</td>\n",
       "    </tr>\n",
       "  </tbody>\n",
       "</table>\n",
       "</div>"
      ],
      "text/plain": [
       "             fage         mage       weeks      visits      gained      weight\n",
       "count  829.000000  1000.000000  998.000000  991.000000  973.000000  1000.00000\n",
       "mean    30.255730    27.000000   38.334669   12.104945   30.325797     7.10100\n",
       "std      6.763766     6.213583    2.931553    3.954934   14.241297     1.50886\n",
       "min     14.000000    13.000000   20.000000    0.000000    0.000000     1.00000\n",
       "25%           NaN    22.000000         NaN         NaN         NaN     6.38000\n",
       "50%           NaN    27.000000         NaN         NaN         NaN     7.31000\n",
       "75%           NaN    32.000000         NaN         NaN         NaN     8.06000\n",
       "max     55.000000    50.000000   45.000000   30.000000   85.000000    11.75000"
      ]
     },
     "execution_count": 21,
     "metadata": {},
     "output_type": "execute_result"
    }
   ],
   "source": [
    "ncbirths.describe()"
   ]
  },
  {
   "cell_type": "code",
   "execution_count": 22,
   "metadata": {
    "collapsed": false,
    "scrolled": true
   },
   "outputs": [
    {
     "name": "stdout",
     "output_type": "stream",
     "text": [
      "<class 'pandas.core.frame.DataFrame'>\n",
      "RangeIndex: 1000 entries, 0 to 999\n",
      "Data columns (total 13 columns):\n",
      "fage              829 non-null float64\n",
      "mage              1000 non-null int64\n",
      "mature            1000 non-null object\n",
      "weeks             998 non-null float64\n",
      "premie            998 non-null object\n",
      "visits            991 non-null float64\n",
      "marital           999 non-null object\n",
      "gained            973 non-null float64\n",
      "weight            1000 non-null float64\n",
      "lowbirthweight    1000 non-null object\n",
      "gender            1000 non-null object\n",
      "habit             999 non-null object\n",
      "whitemom          998 non-null object\n",
      "dtypes: float64(5), int64(1), object(7)\n",
      "memory usage: 101.6+ KB\n"
     ]
    }
   ],
   "source": [
    "ncbirths.info()"
   ]
  },
  {
   "cell_type": "markdown",
   "metadata": {},
   "source": [
    "### Exercise 1 - Exploratory\n",
    "1. What are the cases in this data set? How many cases are there in our sample?\n",
    "2. Which variables are numerical and which ones are categorical?\n",
    "3. For numerical values, are their outliers? If you aren't sure or want to take a closer look at the data, make a graph."
   ]
  },
  {
   "cell_type": "markdown",
   "metadata": {},
   "source": [
    "Consider the possible relationship between a mother’s smoking habit and the weight of her baby. Plotting the data is a useful first step because it helps us quickly visualize trends, identify strong associations, and develop research questions."
   ]
  },
  {
   "cell_type": "markdown",
   "metadata": {},
   "source": [
    "### Exercise 2\n",
    "Make a side-by-side box plot of `habit` and `weight`. What does the plot highlight about the relationship between these two variables?"
   ]
  },
  {
   "cell_type": "code",
   "execution_count": 58,
   "metadata": {
    "collapsed": false
   },
   "outputs": [
    {
     "data": {
      "text/plain": [
       "{'boxes': [<matplotlib.lines.Line2D at 0xda8672048>],\n",
       " 'caps': [<matplotlib.lines.Line2D at 0xda8660a58>,\n",
       "  <matplotlib.lines.Line2D at 0xda8660be0>],\n",
       " 'fliers': [<matplotlib.lines.Line2D at 0xda866ec50>],\n",
       " 'means': [],\n",
       " 'medians': [<matplotlib.lines.Line2D at 0xda866e438>],\n",
       " 'whiskers': [<matplotlib.lines.Line2D at 0xda86729e8>,\n",
       "  <matplotlib.lines.Line2D at 0xda8672b70>]}"
      ]
     },
     "execution_count": 58,
     "metadata": {},
     "output_type": "execute_result"
    },
    {
     "data": {
      "image/png": "[encoded data removed]",
      "text/plain": [
       "<matplotlib.figure.Figure at 0xda7f0cb38>"
      ]
     },
     "metadata": {},
     "output_type": "display_data"
    }
   ],
   "source": [
    "ncbirthsnona = ncbirths.dropna()\n",
    "#habits = ncbirthsnona[\"habit\"]\n",
    "#print(habits)\n",
    "\n",
    "plt.boxplot(ncbirths[\"weight\"])\n"
   ]
  },
  {
   "cell_type": "markdown",
   "metadata": {},
   "source": [
    "The box plots show how the medians of the two distributions compare, but we can also compare the means of the distributions using the following function to split the `weight` variable into the `habit` groups, then take the mean of each using the `mean` function."
   ]
  },
  {
   "cell_type": "code",
   "execution_count": 59,
   "metadata": {
    "collapsed": false
   },
   "outputs": [
    {
     "name": "stdout",
     "output_type": "stream",
     "text": [
      "Help on method boxplot_frame_groupby in module pandas.tools.plotting:\n",
      "\n",
      "boxplot_frame_groupby(subplots=True, column=None, fontsize=None, rot=0, grid=True, ax=None, figsize=None, layout=None, **kwds) method of pandas.core.groupby.DataFrameGroupBy instance\n",
      "    Make box plots from DataFrameGroupBy data.\n",
      "    \n",
      "    Parameters\n",
      "    ----------\n",
      "    grouped : Grouped DataFrame\n",
      "    subplots :\n",
      "        * ``False`` - no subplots will be used\n",
      "        * ``True`` - create a subplot for each group\n",
      "    column : column name or list of names, or vector\n",
      "        Can be any valid input to groupby\n",
      "    fontsize : int or string\n",
      "    rot : label rotation angle\n",
      "    grid : Setting this to True will show the grid\n",
      "    ax : Matplotlib axis object, default None\n",
      "    figsize : A tuple (width, height) in inches\n",
      "    layout : tuple (optional)\n",
      "        (rows, columns) for the layout of the plot\n",
      "    kwds : other plotting keyword arguments to be passed to matplotlib boxplot\n",
      "           function\n",
      "    \n",
      "    Returns\n",
      "    -------\n",
      "    dict of key/value = group key/DataFrame.boxplot return value\n",
      "    or DataFrame.boxplot return value in case subplots=figures=False\n",
      "    \n",
      "    Examples\n",
      "    --------\n",
      "    >>> import pandas\n",
      "    >>> import numpy as np\n",
      "    >>> import itertools\n",
      "    >>>\n",
      "    >>> tuples = [t for t in itertools.product(range(1000), range(4))]\n",
      "    >>> index = pandas.MultiIndex.from_tuples(tuples, names=['lvl0', 'lvl1'])\n",
      "    >>> data = np.random.randn(len(index),4)\n",
      "    >>> df = pandas.DataFrame(data, columns=list('ABCD'), index=index)\n",
      "    >>>\n",
      "    >>> grouped = df.groupby(level='lvl1')\n",
      "    >>> boxplot_frame_groupby(grouped)\n",
      "    >>>\n",
      "    >>> grouped = df.unstack(level='lvl1').groupby(level=0, axis=1)\n",
      "    >>> boxplot_frame_groupby(grouped, subplots=False)\n",
      "\n"
     ]
    }
   ],
   "source": [
    "help(smoking.boxplot)"
   ]
  },
  {
   "cell_type": "code",
   "execution_count": 72,
   "metadata": {
    "collapsed": false
   },
   "outputs": [
    {
     "name": "stderr",
     "output_type": "stream",
     "text": [
      "C:\\Users\\natehow\\Anaconda3\\lib\\site-packages\\pandas\\tools\\plotting.py:3082: FutureWarning: \n",
      "The default value for 'return_type' will change to 'axes' in a future release.\n",
      " To use the future behavior now, set return_type='axes'.\n",
      " To keep the previous behavior and silence this warning, set return_type='dict'.\n",
      "  rot=rot, grid=grid, **kwds)\n"
     ]
    },
    {
     "data": {
      "text/plain": [
       "OrderedDict([('nonsmoker',\n",
       "              {'boxes': [<matplotlib.lines.Line2D at 0xda9c7d710>],\n",
       "               'caps': [<matplotlib.lines.Line2D at 0xda9c0a0f0>,\n",
       "                <matplotlib.lines.Line2D at 0xda9b84cc0>],\n",
       "               'fliers': [<matplotlib.lines.Line2D at 0xda9bfc978>],\n",
       "               'means': [],\n",
       "               'medians': [<matplotlib.lines.Line2D at 0xda9c00780>],\n",
       "               'whiskers': [<matplotlib.lines.Line2D at 0xda9c553c8>,\n",
       "                <matplotlib.lines.Line2D at 0xda9c4b240>]}),\n",
       "             ('smoker',\n",
       "              {'boxes': [<matplotlib.lines.Line2D at 0xda9bf4550>],\n",
       "               'caps': [<matplotlib.lines.Line2D at 0xda9c94828>,\n",
       "                <matplotlib.lines.Line2D at 0xda9c94f60>],\n",
       "               'fliers': [<matplotlib.lines.Line2D at 0xda9c9afd0>],\n",
       "               'means': [],\n",
       "               'medians': [<matplotlib.lines.Line2D at 0xda9c7d9e8>],\n",
       "               'whiskers': [<matplotlib.lines.Line2D at 0xda9bf4668>,\n",
       "                <matplotlib.lines.Line2D at 0xda9c89fd0>]})])"
      ]
     },
     "execution_count": 72,
     "metadata": {},
     "output_type": "execute_result"
    },
    {
     "data": {
      "image/png": "[encoded data removed]",
      "text/plain": [
       "<matplotlib.figure.Figure at 0xda9b83198>"
      ]
     },
     "metadata": {},
     "output_type": "display_data"
    }
   ],
   "source": [
    "smoking = ncbirths.groupby(\"habit\")\n",
    "smoking.agg(np.mean).weight\n",
    "smoking.boxplot(column=\"weight\")\n"
   ]
  },
  {
   "cell_type": "markdown",
   "metadata": {},
   "source": [
    "There is an observed difference, but is this difference statistically significant? In order to answer this question we will conduct a hypothesis test."
   ]
  },
  {
   "cell_type": "markdown",
   "metadata": {},
   "source": [
    "## Inference\n",
    "### Exercise 3\n",
    "Check if the conditions necessary for inference are satisfied. Note that you will need to obtain sample sizes to check the conditions. You can compute the group size using the same by command above but replacing `mean` with `len`."
   ]
  },
  {
   "cell_type": "code",
   "execution_count": 87,
   "metadata": {
    "collapsed": false
   },
   "outputs": [
    {
     "data": {
      "text/plain": [
       "habit\n",
       "nonsmoker    873.0\n",
       "smoker       126.0\n",
       "Name: weight, dtype: float64"
      ]
     },
     "execution_count": 87,
     "metadata": {},
     "output_type": "execute_result"
    }
   ],
   "source": [
    "smoking.agg(len).weight"
   ]
  },
  {
   "cell_type": "markdown",
   "metadata": {},
   "source": [
    "### Exercise 4\n",
    "Write the hypotheses for testing if the average weights of babies born to smoking and non-smoking mothers are different. Calculate the Z-score and p-value for the hypothesis test."
   ]
  },
  {
   "cell_type": "code",
   "execution_count": 66,
   "metadata": {
    "collapsed": true
   },
   "outputs": [],
   "source": [
    "# functions to visualize z-test\n",
    "def _gauss(x, mu=0, sigma=1):\n",
    "    return 1/(sigma*np.sqrt(2*np.pi)) * np.exp(-0.5*pow((x-mu)/sigma,2))\n",
    "gauss = np.vectorize(_gauss)\n",
    "\n",
    "def plot_twosided_ztest(se):\n",
    "    fig = plt.figure()\n",
    "    g = fig.add_subplot(111)\n",
    "    dx = np.linspace(-3.5*se, 3.5*se)\n",
    "    g.plot(dx, gauss(dx, sigma=se))\n",
    "    zx = np.linspace(htest[0]*se, max(dx))\n",
    "    g.fill_between(zx, 0, gauss(zx, sigma=se))\n",
    "    g.fill_between(-zx, 0, gauss(-zx, sigma=se))\n",
    "    g.yaxis.set_visible(False)"
   ]
  },
  {
   "cell_type": "code",
   "execution_count": 88,
   "metadata": {
    "collapsed": false
   },
   "outputs": [
    {
     "name": "stdout",
     "output_type": "stream",
     "text": [
      "(2.359010944933488, 0.018323715325166846)\n",
      "lTest statistics: Z = 2.35901\n",
      "p-value = 0.0183237\n"
     ]
    },
    {
     "data": {
      "image/png": "[encoded data removed]",
      "text/plain": [
       "<matplotlib.figure.Figure at 0xda9af6080>"
      ]
     },
     "metadata": {},
     "output_type": "display_data"
    }
   ],
   "source": [
    "# hypthesis test from exercise 4\n",
    "group1 = ncbirths[ncbirths[\"habit\"]==\"nonsmoker\"].weight\n",
    "group2 = ncbirths[ncbirths[\"habit\"]==\"smoker\"].weight\n",
    "d1 = statsmodels.stats.weightstats.DescrStatsW(group1)\n",
    "d2 = statsmodels.stats.weightstats.DescrStatsW(group2)\n",
    "cm = statsmodels.stats.weightstats.CompareMeans(d1, d2)\n",
    "htest = cm.ztest_ind(usevar=\"unequal\")\n",
    "print(htest)\n",
    "print(\"lTest statistics: Z = {:n}\".format(htest[0]))\n",
    "print(\"p-value = {:n}\".format(htest[1]))\n",
    "plot_twosided_ztest(cm.std_meandiff_separatevar)"
   ]
  },
  {
   "cell_type": "markdown",
   "metadata": {},
   "source": [
    "### Exercise 5\n",
    "Calculate the 95% confidence interval for the difference in means $\\mu_{nonsmoker} - \\mu_{smoker}$. Read the documentation for statsmodels.stats.weightstats.CompareMeans (current instance is `cm`) for help."
   ]
  },
  {
   "cell_type": "code",
   "execution_count": 86,
   "metadata": {
    "collapsed": false
   },
   "outputs": [
    {
     "data": {
      "text/plain": [
       "(0.05337671771624275, 0.57770821110063975)"
      ]
     },
     "execution_count": 86,
     "metadata": {},
     "output_type": "execute_result"
    }
   ],
   "source": [
    "zconf = cm.zconfint_diff(alpha = 0.05, usevar = \"unequal\")\n",
    "zconf"
   ]
  },
  {
   "cell_type": "markdown",
   "metadata": {},
   "source": [
    "### Exercise 6\n",
    "See DescrStatsW [documentation](http://statsmodels.sourceforge.net/devel/generated/statsmodels.stats.weightstats.DescrStatsW.html) for useful methods.\n",
    "\n",
    "1. Calculate a 95% confidence interval for the average length of pregnancies (weeks) and interpret it in context. Note that since you’re doing inference on a single population parameter, there is no explanatory variable, so you can omit the x variable from the function.\n",
    "\n",
    "2. Calculate a new confidence interval for the same parameter at the 90% confidence level. You can change the confidence level by adding a new argument to the function: conflevel = 0.90.\n",
    "\n",
    "3. Conduct a hypothesis test evaluating whether the average weight gained by younger mothers is different than the average weight gained by mature mothers.\n",
    "\n",
    "4. Now, a non-inference task: Determine the age cutoff for younger and mature mothers. Use a method of your choice, and explain how your method works.\n",
    "\n",
    "5. Pick a pair of numerical and categorical variables and come up with a research question evaluating the relationship between these variables. Formulate the question in a way that it can be answered using a hypothesis test and/or a confidence interval. Answer your question using the inference function, report the statistical results, and also provide an explanation in plain language."
   ]
  },
  {
   "cell_type": "code",
   "execution_count": 110,
   "metadata": {
    "collapsed": false
   },
   "outputs": [
    {
     "name": "stdout",
     "output_type": "stream",
     "text": [
      "95% - The mean length of pregnancy is between 38.15 and 38.52\n",
      "90% - The mean length of pregnancy is between 38.18 and 38.49\n",
      "(-1.376482738325338, 0.16867222789392544)\n",
      "lTest statistics: Z = -1.37648\n",
      "p-value = 0.168672\n"
     ]
    },
    {
     "name": "stderr",
     "output_type": "stream",
     "text": [
      "C:\\Users\\natehow\\Anaconda3\\lib\\site-packages\\pandas\\tools\\plotting.py:3082: FutureWarning: \n",
      "The default value for 'return_type' will change to 'axes' in a future release.\n",
      " To use the future behavior now, set return_type='axes'.\n",
      " To keep the previous behavior and silence this warning, set return_type='dict'.\n",
      "  rot=rot, grid=grid, **kwds)\n"
     ]
    },
    {
     "data": {
      "image/png": "[encoded data removed]",
      "text/plain": [
       "<matplotlib.figure.Figure at 0xdab1dd668>"
      ]
     },
     "metadata": {},
     "output_type": "display_data"
    },
    {
     "data": {
      "image/png": "[encoded data removed]",
      "text/plain": [
       "<matplotlib.figure.Figure at 0xda9fa35f8>"
      ]
     },
     "metadata": {},
     "output_type": "display_data"
    }
   ],
   "source": [
    "#ncbirths.describe()\n",
    "term = ncbirths.weeks.dropna()\n",
    "zconf95 = statsmodels.stats.weightstats.DescrStatsW(term).zconfint_mean()\n",
    "#plt.hist(term, bins = 20)\n",
    "print(\"95% - The mean length of pregnancy is between \" + format(round(zconf95[0],2)) + \" and \" + format(round(zconf95[1],2)))\n",
    "\n",
    "zconf90 = statsmodels.stats.weightstats.DescrStatsW(term).zconfint_mean(alpha = 0.10)\n",
    "print(\"90% - The mean length of pregnancy is between \" + format(round(zconf90[0],2)) + \" and \" + format(round(zconf90[1],2)))\n",
    "\n",
    "mature = ncbirths.groupby(\"mature\")\n",
    "mature.agg(np.mean).gained\n",
    "mature.boxplot(column=\"gained\")\n",
    "\n",
    "# hypthesis test from exercise 4\n",
    "group1 = ncbirths[ncbirths[\"mature\"]==\"mature mom\"].gained.dropna()\n",
    "group2 = ncbirths[ncbirths[\"mature\"]==\"younger mom\"].gained.dropna()\n",
    "d1 = statsmodels.stats.weightstats.DescrStatsW(group1)\n",
    "d2 = statsmodels.stats.weightstats.DescrStatsW(group2)\n",
    "cm = statsmodels.stats.weightstats.CompareMeans(d1, d2)\n",
    "htest = cm.ztest_ind(usevar=\"unequal\")\n",
    "print(htest)\n",
    "print(\"lTest statistics: Z = {:n}\".format(htest[0]))\n",
    "print(\"p-value = {:n}\".format(htest[1]))\n",
    "plot_twosided_ztest(cm.std_meandiff_separatevar)\n",
    "\n",
    "\n"
   ]
  },
  {
   "cell_type": "code",
   "execution_count": 116,
   "metadata": {
    "collapsed": false
   },
   "outputs": [
    {
     "name": "stdout",
     "output_type": "stream",
     "text": [
      "34\n",
      "35\n"
     ]
    }
   ],
   "source": [
    "younger = ncbirths[ncbirths[\"mature\"] == \"younger mom\"].dropna()\n",
    "mature = ncbirths[ncbirths[\"mature\"] == \"mature mom\"].dropna()\n",
    "print(younger.mage.max())\n",
    "print(mature.mage.min())"
   ]
  },
  {
   "cell_type": "markdown",
   "metadata": {},
   "source": [
    "# Inference for categorical data\n",
    "\n",
    "Copied and adapted from OpenStats Intro \"Inference for categorical data\" lab, a product of OpenIntro that is released under a [Creative Commons Attribution-ShareAlike 3.0 Unported](http://creativecommons.org/licenses/by-sa/3.0). Original lab was written for OpenIntro by Andrew Bray and Mine Çetinkaya-Rundel.\n",
    "\n",
    "In August of 2012, news outlets ranging from the [Washington Post](http://www.washingtonpost.com/national/on-faith/poll-shows-atheism-on-the-rise-in-the-us/2012/08/13/90020fd6-e57d-11e1-9739-eef99c5fb285_story.html) to the [Huffington Post](http://www.huffingtonpost.com/2012/08/14/atheism-rise-religiosity-decline-in-america_n_1777031.html) ran a story about the rise of atheism in America. The source for the story was a poll that asked people, “Irrespective of whether you attend a place of worship or not, would you say you are a religious person, not a religious person or a convinced atheist?” This type of question, which asks people to classify themselves in one way or another, is common in polling and generates categorical data. In this lab we take a look at the atheism survey and explore what’s at play when making inference about population proportions using categorical data.\n",
    "\n",
    "The data set is available here: https://www.openintro.org/stat/data/?data=atheism. The one that accompanies this notebook has had the comma removed from \"Korea, Reb (South)\".\n",
    "\n",
    "\n",
    "### Note: Exercises 4-10 are most important for our purposes.\n"
   ]
  },
  {
   "cell_type": "markdown",
   "metadata": {},
   "source": [
    "## The survey\n",
    "\n",
    "To access the press release for the poll, conducted by WIN-Gallup International, click on the following link:\n",
    "\n",
    "http://www.wingia.com/web/files/richeditor/filemanager/Global_INDEX_of_Religiosity_and_Atheism_PR__6.pdf\n",
    "\n",
    "Take a moment to review the report then address the following questions."
   ]
  },
  {
   "cell_type": "markdown",
   "metadata": {},
   "source": [
    "### Exercise 1\n",
    "In the first paragraph, several key findings are reported. Do these percentages appear to be *sample* statistics (derived from the data sample) or *population parameters*?"
   ]
  },
  {
   "cell_type": "markdown",
   "metadata": {},
   "source": [
    "### Exercise 2\n",
    "\n",
    "The title of the report is “Global Index of Religiosity and Atheism”. To generalize the report’s findings to the global human population, what must we assume about the sampling method? Does that seem like a reasonable assumption?"
   ]
  },
  {
   "cell_type": "markdown",
   "metadata": {},
   "source": [
    "## The data\n",
    "\n",
    "Turn your attention to Table 6 (pages 15 and 16), which reports the sample size and response percentages for all 57 countries. While this is a useful format to summarize the data, we will base our analysis on the original data set of individual responses to the survey. Load this data set into R with the following command."
   ]
  },
  {
   "cell_type": "code",
   "execution_count": null,
   "metadata": {
    "collapsed": false
   },
   "outputs": [],
   "source": [
    "atheism = pd.read_csv(\"atheism.csv\")"
   ]
  },
  {
   "cell_type": "markdown",
   "metadata": {},
   "source": [
    "### Exercise 3\n",
    "What does each row of Table 6 correspond to? What does each row of `atheism` correspond to?"
   ]
  },
  {
   "cell_type": "markdown",
   "metadata": {},
   "source": [
    "To investigate the link between these two ways of organizing this data, take a look at the estimated proportion of atheists in the United States. Towards the bottom of Table 6, we see that this is 5%. We should be able to come to the same number using the `atheism`\n",
    "data."
   ]
  },
  {
   "cell_type": "markdown",
   "metadata": {},
   "source": [
    "### Exercise 4\n",
    "Using the command below, create a new dataframe called `us12` that contains only the rows in `atheism` associated with respondents to the 2012 survey from the United States. Next, calculate the proportion of atheist responses. Does it agree with the percentage in Table 6? If not, why?"
   ]
  },
  {
   "cell_type": "code",
   "execution_count": null,
   "metadata": {
    "collapsed": true
   },
   "outputs": [],
   "source": [
    "us12 = atheism[ (atheism[\"nationality\"] == \"United States\") & (atheism[\"year\"] == 2012)]"
   ]
  },
  {
   "cell_type": "markdown",
   "metadata": {},
   "source": [
    "## Inference on proportions\n",
    "\n",
    "As was hinted at in Exercise 1, Table 6 provides *statistics*, that is, calculations made from the sample of 51,927 people. What we’d like, though, is insight into the population *parameters*. You answer the question, “What proportion of people in your sample reported being atheists?” with a statistic; while the question “What proportion of people on earth would report being atheists” is answered with an estimate of the parameter.\n",
    "\n",
    "The inferential tools for estimating population proportion are analogous to those used for means in the last chapter: the confidence interval and the hypothesis test."
   ]
  },
  {
   "cell_type": "markdown",
   "metadata": {},
   "source": [
    "### Exercise 5\n",
    "Write out the conditions for inference to construct a 95% confidence interval for the proportion of atheists in the United States in 2012. Are you confident all conditions are met?"
   ]
  },
  {
   "cell_type": "markdown",
   "metadata": {},
   "source": [
    "If the conditions for inference are reasonable, we can calculate the standard error and construct the confidence interval. The output of the following cell is the 95% confidence interval. More on how it is calculated follows below."
   ]
  },
  {
   "cell_type": "code",
   "execution_count": null,
   "metadata": {
    "collapsed": false
   },
   "outputs": [],
   "source": [
    "def atheist_confidence_interval(data, conf_levl=0.95):\n",
    "    \"\"\" data (pandas.DataFrame) -- subset of atheism data\n",
    "        conf_levl (float) -- confidence level \n",
    "    \"\"\"\n",
    "    zstar = norm.ppf((1-(1-conf_levl)/2))\n",
    "    probs = data.response.value_counts(normalize=True)\n",
    "    se = np.sqrt(probs.prod()/len(us12.index))\n",
    "    ci = np.array([-1,1]) * zstar * se + probs[\"atheist\"]\n",
    "    print(\"{:.0%} confidence interval: ({:.4f}, {:.4f})\".format(conf_levl, *ci))\n",
    "    return "
   ]
  },
  {
   "cell_type": "code",
   "execution_count": null,
   "metadata": {
    "collapsed": false
   },
   "outputs": [],
   "source": [
    "atheist_confidence_interval(us12)"
   ]
  },
  {
   "cell_type": "markdown",
   "metadata": {},
   "source": [
    "Although formal confidence intervals and hypothesis tests don’t show up in the report, suggestions of inference appear at the bottom of page 7: “In general, the error margin for surveys of this kind is $\\pm$ 3-5% at 95% confidence”."
   ]
  },
  {
   "cell_type": "markdown",
   "metadata": {},
   "source": [
    "### Exercise 6\n",
    "Based on the confidence interval output above, what is the margin of error for the estimate of the proportion of the proportion of atheists in US in 2012?"
   ]
  },
  {
   "cell_type": "markdown",
   "metadata": {},
   "source": [
    "### Exercise 7\n",
    "Using the `atheist_confidence_interval` function, calculate confidence intervals for the proportion of atheists in 2012 in two other countries of your choice, and report the associated margins of error. Be sure to note whether the conditions for inference are met. It may be helpful to create new data sets for each of the two countries first, and then use these data sets in the `atheist_confidence_interval` function to construct the confidence intervals."
   ]
  },
  {
   "cell_type": "markdown",
   "metadata": {},
   "source": [
    "## How does the proportion affect the margin of error?"
   ]
  },
  {
   "cell_type": "markdown",
   "metadata": {},
   "source": [
    "Imagine you’ve set out to survey 1000 people on two questions: are you female? and are you left-handed? Since both of these sample proportions were calculated from the same sample size, they should have the same margin of error, right? Wrong! While the margin of error does change with sample size, it is also affected by the proportion.\n",
    "\n",
    "Think back to the formula for the standard error: $SE = \\sqrt{p(1−p)/n}$. This is then used in the formula for the margin of error for a 95% confidence interval: $ME = 1.96 \\times SE = 1.96\\times \\sqrt{p(1−p)/n}$. Since the population proportion $p$ is in this $ME$ formula, it should make sense that the margin of error is in some way dependent on the population proportion. We can visualize this relationship by creating a plot of $ME$ vs. $p$.\n",
    "\n",
    "The first step is to make a numpy.array `p` that is a sequence from 0 to 1 with each number separated by 0.01. We can then create an array of the margin of error (`me`) associated with each of these values of `p` using the familiar approximate formula ($ME = 2 \\times SE$). Lastly, we plot the two vectors against each other to reveal their relationship."
   ]
  },
  {
   "cell_type": "code",
   "execution_count": null,
   "metadata": {
    "collapsed": false
   },
   "outputs": [],
   "source": [
    "n = 1000\n",
    "p = np.arange(0, 1, 0.01)\n",
    "me = 2 * sqrt(p * (1-p)/n)\n",
    "plt.plot(p, me)\n",
    "plt.ylabel(\"Margin of Error\")\n",
    "plt.xlabel(\"Population Proportion\")"
   ]
  },
  {
   "cell_type": "markdown",
   "metadata": {
    "collapsed": true
   },
   "source": [
    "### Exercise 8\n",
    "Describe the relationship between `p` and `me`."
   ]
  },
  {
   "cell_type": "markdown",
   "metadata": {},
   "source": [
    "## Success-failure condition\n",
    "\n",
    "The textbook emphasizes that you must always check conditions before making inference. For inference on proportions, the sample proportion can be assumed to be nearly normal if it is based upon a random sample of independent observations and if both $np \\gt 10$ and $n(1−p)\\gt10$. This rule of thumb is easy enough to follow, but it makes one wonder: what’s so special about the number 10?\n",
    "\n",
    "The short answer is: nothing. You could argue that we would be fine with 9 or that we really should be using 11. What is the “best” value for such a rule of thumb is, at least to some degree, arbitrary. However, when npnp and n(1−p)n(1−p) reaches 10 the sampling distribution is sufficiently normal to use confidence intervals and hypothesis tests that are based on that approximation.\n",
    "\n",
    "We can investigate the interplay between `n` and `p` and the shape of the sampling distribution by using simulations. To start off, we simulate the process of drawing 5000 samples of size 1040 from a population with a true atheist proportion of 0.1. For each of the 5000 samples we compute $\\hat{p}$ and then plot a histogram to visualize their distribution."
   ]
  },
  {
   "cell_type": "code",
   "execution_count": null,
   "metadata": {
    "collapsed": false
   },
   "outputs": [],
   "source": [
    "p = 0.1\n",
    "n = 1040\n",
    "p_hats = []\n",
    "for i in range(5000):\n",
    "    samp = np.random.choice([\"atheist\", \"non_atheist\"], n, replace=True, p=(p, 1-p))\n",
    "    p_hats.append((samp==\"atheist\").sum()/n)\n",
    "plt.hist(p_hats)\n",
    "plt.title(\"p=0.1, n=1040\")\n",
    "plt.xlim(0, 0.18)\n",
    "plt.xlabel(\"p_hats\")\n",
    "plt.ylabel(\"Frequency\")\n"
   ]
  },
  {
   "cell_type": "markdown",
   "metadata": {},
   "source": [
    "These commands build up the sampling distribution of $\\hat{p}$ using the familiar `for` loop. You can read the sampling procedure for the first line of code inside the `for` loop as, “take a sample of size $n$ with replacement from the choices of atheist and non-atheist with probabilities `p` and `1−p`, respectively.” The second line in the loop says, “calculate the proportion of atheists in this sample and record this value.” The loop allows us to repeat this process 5,000 times to build a good representation of the sampling distribution."
   ]
  },
  {
   "cell_type": "markdown",
   "metadata": {},
   "source": [
    "### Exercise 9\n",
    "Describe the sampling distribution of sample proportions at $n=1040$ and $p=0.1$. Be sure to note the center, spread, and shape."
   ]
  },
  {
   "cell_type": "markdown",
   "metadata": {},
   "source": [
    "### Exercise 10\n",
    "Repeat the above simulation three more times but with modified sample sizes and proportions: for $n=400$ and $p=0.1$, $n=1040$ and $p=0.02$, and $n=400$ and $p=0.02$. Plot all four histograms together. Based on these limited plots, how does $n$ appear to affect the distribution of $\\hat{p}$ How does $p$ affect the sampling distribution?"
   ]
  },
  {
   "cell_type": "markdown",
   "metadata": {},
   "source": [
    "### Exercise 11\n",
    "If you refer to Table 6, you’ll find that Australia has a sample proportion of 0.1 on a sample size of 1040, and that Ecuador has a sample proportion of 0.02 on 400 subjects. Let’s suppose for this exercise that these point estimates are actually the truth. Then given the shape of their respective sampling distributions, do you think it is sensible to proceed with inference and report margin of errors, as the reports does?"
   ]
  },
  {
   "cell_type": "markdown",
   "metadata": {},
   "source": [
    "## On your own\n",
    "\n",
    "The question of atheism was asked by WIN-Gallup International in a similar survey that was conducted in 2005. (We assume here that sample sizes have remained the same.) Table 4 on page 13 of the report summarizes survey results from 2005 and 2012 for 39 countries.\n",
    "\n",
    "1. Answer the following two questions using the atheist_confidence_interval function. As always, write out the hypotheses for any tests you conduct and outline the status of the conditions for inference.\n",
    "\n",
    "    * Is there convincing evidence that Spain has seen a change in its atheism index between 2005 and 2012? Hint: Create a new data set for respondents from Spain. Form confidence intervals for the true proportion of athiests in both years, and determine whether they overlap.\n",
    "\n",
    "    * Is there convincing evidence that the United States has seen a change in its atheism index between 2005 and 2012?\n",
    "\n",
    "1. If in fact there has been no change in the atheism index in the countries listed in Table 4, in how many of those countries would you expect to detect a change (at a significance level of 0.05) simply by chance? Hint: Look in the textbook index under Type 1 error.\n",
    "\n",
    "1. Suppose you’re hired by the local government to estimate the proportion of residents that attend a religious service on a weekly basis. According to the guidelines, the estimate must have a margin of error no greater than 1% with 95% confidence. You have no idea what to expect for $p$. How many people would you have to sample to ensure that you are within the guidelines?\n",
    "Hint: Refer to your plot of the relationship between $p$ and margin of error. Do not use the data set to answer this question.\n",
    "\n"
   ]
  }
 ],
 "metadata": {
  "anaconda-cloud": {},
  "kernelspec": {
   "display_name": "Python [default]",
   "language": "python",
   "name": "python3"
  },
  "language_info": {
   "codemirror_mode": {
    "name": "ipython",
    "version": 3
   },
   "file_extension": ".py",
   "mimetype": "text/x-python",
   "name": "python",
   "nbconvert_exporter": "python",
   "pygments_lexer": "ipython3",
   "version": "3.5.2"
  }
 },
 "nbformat": 4,
 "nbformat_minor": 0
}
