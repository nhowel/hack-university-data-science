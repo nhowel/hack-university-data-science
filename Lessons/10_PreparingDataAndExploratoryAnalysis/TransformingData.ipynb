{
 "cells": [
  {
   "cell_type": "markdown",
   "metadata": {},
   "source": [
    "# Lesson 3: Transforming Data\n",
    "Sample annual temperature and preciptation climate data from Portland, OR, San Diego, CA, Tampa, FL, and Bangor, ME. Data from [NOAA Climate Data Online](http://www.ncdc.noaa.gov/cdo-web/datasets#ANNUAL). See accompanying documentation.\n",
    "\n",
    "The purpose of this notebook is to demonstrate some functionality in pandas. No attempt at a sensible analysis is made."
   ]
  },
  {
   "cell_type": "code",
   "execution_count": null,
   "metadata": {
    "collapsed": false
   },
   "outputs": [],
   "source": [
    "import os\n",
    "import csv\n",
    "\n",
    "%matplotlib inline\n",
    "import pandas as pd\n",
    "import numpy as np\n",
    "import matplotlib.pyplot as plt\n",
    "import seaborn as sns"
   ]
  },
  {
   "cell_type": "code",
   "execution_count": null,
   "metadata": {
    "collapsed": false
   },
   "outputs": [],
   "source": [
    "# read in climate data\n",
    "climate = pd.read_csv(os.path.join(\"data\",\"climate.csv\"), na_values=[-9999, 9999])"
   ]
  },
  {
   "cell_type": "code",
   "execution_count": null,
   "metadata": {
    "collapsed": false
   },
   "outputs": [],
   "source": [
    "# read in file to map column names to something human readable\n",
    "namemap = {}\n",
    "with open(os.path.join(\"data\", \"climate_colnames.csv\")) as csvfile:\n",
    "    reader = csv.reader(csvfile)\n",
    "    for row in reader:\n",
    "        namemap[row[0]] = row[1]"
   ]
  },
  {
   "cell_type": "code",
   "execution_count": null,
   "metadata": {
    "collapsed": false
   },
   "outputs": [],
   "source": [
    "climate.columns = [namemap.get(c,c).lower() for c in climate.columns]"
   ]
  },
  {
   "cell_type": "code",
   "execution_count": null,
   "metadata": {
    "collapsed": false
   },
   "outputs": [],
   "source": [
    "climate.columns"
   ]
  },
  {
   "cell_type": "code",
   "execution_count": null,
   "metadata": {
    "collapsed": false
   },
   "outputs": [],
   "source": [
    "climate[\"state\"] = [s[-5:-2] for s in climate.station_name]\n",
    "climate[\"date\"] = pd.to_datetime(climate.date, format=\"%Y%m\")\n",
    "climate[\"year\"] = climate.date.dt.year\n",
    "climate[\"month\"] = climate.date.dt.month"
   ]
  },
  {
   "cell_type": "code",
   "execution_count": null,
   "metadata": {
    "collapsed": false
   },
   "outputs": [],
   "source": [
    "print(climate.state.unique())\n",
    "print(climate.year.unique())\n",
    "print(climate.month.unique())"
   ]
  },
  {
   "cell_type": "code",
   "execution_count": null,
   "metadata": {
    "collapsed": false
   },
   "outputs": [],
   "source": [
    "# print max values by state\n",
    "groupbystate = climate.groupby(\"state\")\n",
    "groupbystate.agg(max)"
   ]
  },
  {
   "cell_type": "code",
   "execution_count": null,
   "metadata": {
    "collapsed": false
   },
   "outputs": [],
   "source": [
    "groupbystation = climate.groupby(\"station_name\")\n",
    "groupbystation.agg"
   ]
  },
  {
   "cell_type": "code",
   "execution_count": null,
   "metadata": {
    "collapsed": false,
    "scrolled": true
   },
   "outputs": [],
   "source": [
    "climate.columns[3:-4].union([\"state\"])"
   ]
  },
  {
   "cell_type": "code",
   "execution_count": null,
   "metadata": {
    "collapsed": false
   },
   "outputs": [],
   "source": [
    "sns.set()\n",
    "climate_values_nona = climate[climate.columns[3:-4].union([\"state\"])].dropna()\n",
    "sns.pairplot(climate_values_nona, hue=\"state\")"
   ]
  },
  {
   "cell_type": "markdown",
   "metadata": {},
   "source": [
    "## Normalization"
   ]
  },
  {
   "cell_type": "code",
   "execution_count": null,
   "metadata": {
    "collapsed": false
   },
   "outputs": [],
   "source": [
    "# view distribution for one station per metropolitan area.\n",
    "stationlist = list(groupbystate.station_name.agg(max))\n",
    "climate_stations = climate[climate[\"station_name\"].apply(lambda s: s in stationlist)]\n",
    "\n",
    "g = sns.FacetGrid(climate_stations, col=\"station_name\")\n",
    "g.map(plt.hist,\"max_daily_temp\")"
   ]
  },
  {
   "cell_type": "code",
   "execution_count": null,
   "metadata": {
    "collapsed": false
   },
   "outputs": [],
   "source": [
    "# calculate normalized max_daily_temperature (i.e. the Z-score) for each station\n",
    "mean = groupbystation.max_daily_temp.mean()\n",
    "std = groupbystation.max_daily_temp.std()\n",
    "climate[\"max_daily_temp_norm\"] = climate.apply(lambda x: \n",
    "                                               (x[\"max_daily_temp\"] - mean[x[\"station_name\"]])/std[x[\"station_name\"]],\n",
    "                                               axis=1)"
   ]
  },
  {
   "cell_type": "code",
   "execution_count": null,
   "metadata": {
    "collapsed": false
   },
   "outputs": [],
   "source": [
    "# show normalized max temperature distribution for same set of stations as above\n",
    "climate_stations = climate[climate[\"station_name\"].apply(lambda s: s in stationlist)]\n",
    "\n",
    "g = sns.FacetGrid(climate_stations, col=\"station_name\")\n",
    "g.map(plt.hist,\"max_daily_temp_norm\")"
   ]
  },
  {
   "cell_type": "markdown",
   "metadata": {},
   "source": [
    "## Dummy Variables\n",
    "For some algorithms you will need to convert categorical variables to dummy variables, mutually exclusive categories that take boolean values."
   ]
  },
  {
   "cell_type": "code",
   "execution_count": null,
   "metadata": {
    "collapsed": false
   },
   "outputs": [],
   "source": [
    "pd.get_dummies(climate.station_name)"
   ]
  },
  {
   "cell_type": "markdown",
   "metadata": {},
   "source": [
    "## Create Example Plots\n",
    "Code for plots used in lecture."
   ]
  },
  {
   "cell_type": "code",
   "execution_count": null,
   "metadata": {
    "collapsed": false
   },
   "outputs": [],
   "source": [
    "# Side-by-side box plot (Explanatory: Categorical, Response: Numerical)\n",
    "sns.boxplot(x=\"state\", y=\"max_daily_temp\", data = climate)"
   ]
  },
  {
   "cell_type": "code",
   "execution_count": null,
   "metadata": {
    "collapsed": false
   },
   "outputs": [],
   "source": [
    "# Bin snow day count to make an ordinal categorical variable from a discrete numerical variable\n",
    "snowdaysbins = [0,1,5,10,20,366]\n",
    "binlabels = [\"0\", \"1-4\", \"5-9\", \"10-19\", \"20+\"]\n",
    "climate.days_with_snow = pd.cut(climate.count_days_with_snow, snowdaysbins, right=False, labels = binlabels)\n",
    "# create contingency table\n",
    "snowtable = pd.crosstab(climate.state, climate.days_with_snow)\n",
    "# view contingency table\n",
    "snowtable"
   ]
  }
 ],
 "metadata": {
  "kernelspec": {
   "display_name": "Python 3",
   "language": "python",
   "name": "python3"
  },
  "language_info": {
   "codemirror_mode": {
    "name": "ipython",
    "version": 3
   },
   "file_extension": ".py",
   "mimetype": "text/x-python",
   "name": "python",
   "nbconvert_exporter": "python",
   "pygments_lexer": "ipython3",
   "version": "3.5.2"
  }
 },
 "nbformat": 4,
 "nbformat_minor": 0
}
