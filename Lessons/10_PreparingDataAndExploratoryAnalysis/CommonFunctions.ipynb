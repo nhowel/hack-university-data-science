{
 "cells": [
  {
   "cell_type": "markdown",
   "metadata": {},
   "source": [
    "# Common Functions\n",
    "\n",
    "Linear regression can be used to fit non-linear relationships with the right model or feature engineering. The first step is to recognize what function describes the relationship, and potentially what transformation will create a linear relationship.\n",
    "\n",
    "In the following examples, `x` is the explanatory variable, `y` is the response variable, and we will simulate random variation using a normal distribution. As the notebook is written, the normally distributed noise is applied to `y` before transforming, so in linear form the constant variability condition of statistical inference of model parameters is violated for transformed data. Making the transformation is helpful for determining a non-linear function that models the relationship."
   ]
  },
  {
   "cell_type": "code",
   "execution_count": null,
   "metadata": {
    "collapsed": true
   },
   "outputs": [],
   "source": [
    "%matplotlib inline\n",
    "import matplotlib.pyplot as plt\n",
    "import numpy as np"
   ]
  },
  {
   "cell_type": "markdown",
   "metadata": {},
   "source": [
    "## Linear\n",
    "$y = m*x + b$"
   ]
  },
  {
   "cell_type": "code",
   "execution_count": null,
   "metadata": {
    "collapsed": true
   },
   "outputs": [],
   "source": [
    "def _linear(x, m=1, b=0):\n",
    "    return m*x + b\n",
    "# for plotting convenience, use numpy.vectorize method that will apply the function element-wise to an array argument.\n",
    "linear = np.vectorize(_linear)"
   ]
  },
  {
   "cell_type": "code",
   "execution_count": null,
   "metadata": {
    "collapsed": false
   },
   "outputs": [],
   "source": [
    "# set parameters\n",
    "m = -1 # slope\n",
    "b = 10 # interscept\n",
    "xmin = 0\n",
    "xmax = 10\n",
    "xdel = 0.1 # resolution\n",
    "mu = 0 # mean of simulated noise\n",
    "sigma = 1 # standard deviation of simulated noise\n",
    "\n",
    "# plot relationship with no random noise\n",
    "x = np.arange(xmin, xmax, xdel)\n",
    "y = linear(x, m, b)\n",
    "plt.plot(x, y)\n",
    "plt.title(\"Line Plot, no noise\")\n",
    "plt.show()\n",
    "\n",
    "# same relationship with random noise\n",
    "noise = [np.random.normal(mu, sigma) for i in x]\n",
    "plt.scatter(x, y+noise)\n",
    "plt.title(\"Scatter Plot, with noise\")\n",
    "plt.show()"
   ]
  },
  {
   "cell_type": "markdown",
   "metadata": {},
   "source": [
    "## Quadratic\n",
    "$y = m*x^2 + b$ \n",
    "\n",
    "Define a new feature $x^2$ to create a linear relationship."
   ]
  },
  {
   "cell_type": "code",
   "execution_count": null,
   "metadata": {
    "collapsed": true
   },
   "outputs": [],
   "source": [
    "def _quadratic(x, m=1, b=0):\n",
    "    return m * x**2 + b\n",
    "quadratic = np.vectorize(_quadratic)"
   ]
  },
  {
   "cell_type": "code",
   "execution_count": null,
   "metadata": {
    "collapsed": false
   },
   "outputs": [],
   "source": [
    "# set parameters\n",
    "m = 1 # coefficient\n",
    "b = 0 # interscept\n",
    "xmin = 0\n",
    "xmax = 10\n",
    "xdel = 0.1 # resolution\n",
    "mu = 0 # mean of simulated noise\n",
    "sigma = 7 # noise fraction of value for simulate noise\n",
    "\n",
    "\n",
    "# plot relationship with no random noise\n",
    "x = np.arange(xmin, xmax, xdel)\n",
    "y = quadratic(x, m, b)\n",
    "plt.plot(x, y)\n",
    "plt.title(\"Line Plot, no noise\")\n",
    "plt.show()\n",
    "\n",
    "# same relationship with random noise\n",
    "noise = [np.random.normal(mu, sigma) for i in x]\n",
    "plt.scatter(x, y+noise)\n",
    "plt.title(\"Scatter Plot, with noise\")\n",
    "plt.show()\n",
    "# transform explantory variable to create linear relationship\n",
    "newfeature = np.power(x,2)\n",
    "plt.scatter(newfeature, y+noise)\n",
    "plt.title(\"Scatter Plot of Transformed Variable, with noise\")\n",
    "plt.show()"
   ]
  },
  {
   "cell_type": "markdown",
   "metadata": {},
   "source": [
    "## Exponential\n",
    "$y = \\alpha * e^{\\beta x}$\n",
    "\n",
    "In this case we will build a model $ln(y) = \\alpha + \\beta * x$"
   ]
  },
  {
   "cell_type": "code",
   "execution_count": null,
   "metadata": {
    "collapsed": true
   },
   "outputs": [],
   "source": [
    "def _exponential(x, a=1, b=1):\n",
    "    return a*np.exp(b*x)\n",
    "exponential = np.vectorize(_exponential)"
   ]
  },
  {
   "cell_type": "code",
   "execution_count": null,
   "metadata": {
    "collapsed": false
   },
   "outputs": [],
   "source": [
    "# set parameters\n",
    "# try a = 10, b=-0.5, sigma =1\n",
    "a = 1 \n",
    "b = 0.5 # positive value gives exponential growth, negative results in exponential decay\n",
    "xmin = 1\n",
    "xmax = 10\n",
    "xdel = 0.1 # resolution\n",
    "mu = 0 # mean of simulated noise\n",
    "sigma = 10 # standard deviation of simulated noise\n",
    "\n",
    "\n",
    "# plot relationship with no random noise\n",
    "x = np.arange(xmin, xmax, xdel)\n",
    "y = exponential(x, a, b)\n",
    "plt.plot(x, y)\n",
    "plt.title(\"Line Plot, no noise\")\n",
    "plt.show()\n",
    "\n",
    "# same relationship with random noise\n",
    "noise = [np.random.normal(mu, sigma) for i in x]\n",
    "yn = np.abs(y+noise) # the absolute value biases the noise, but prevents nan in values\n",
    "plt.scatter(x, yn)\n",
    "plt.title(\"Scatter Plot, with noise\")\n",
    "plt.show()\n",
    "\n",
    "# transform explantory variable to create linear relationship\n",
    "plt.scatter(x, np.log(yn))\n",
    "plt.title(\"Scatter Plot of Transformed Variable, with noise\")\n",
    "plt.ylabel(\"log(y)\")\n",
    "plt.show()"
   ]
  },
  {
   "cell_type": "markdown",
   "metadata": {},
   "source": [
    "## Logarithmic\n",
    "$ y = \\alpha*log(\\beta*x)$\n",
    "\n",
    "Model $y = m\\zeta+\\beta$ where $m=\\alpha$, $b=\\alpha  \\log(\\beta)$, and $\\zeta=\\log(x)$."
   ]
  },
  {
   "cell_type": "code",
   "execution_count": null,
   "metadata": {
    "collapsed": true
   },
   "outputs": [],
   "source": [
    "def _logarithmic(x, a=1, b=1):\n",
    "    return a*np.log(b*x)\n",
    "logarithmic = np.vectorize(_logarithmic)"
   ]
  },
  {
   "cell_type": "code",
   "execution_count": null,
   "metadata": {
    "collapsed": false
   },
   "outputs": [],
   "source": [
    "# set parameters\n",
    "a = 1 \n",
    "b = 10\n",
    "xmin = 0.1\n",
    "xmax = 10\n",
    "xdel = 0.1 # resolution\n",
    "mu = 0 # mean of simulated noise\n",
    "sigma = 0.25 # standard deviation of simulated noise\n",
    "\n",
    "\n",
    "# plot relationship with no random noise\n",
    "x = np.arange(xmin, xmax, xdel)\n",
    "y = logarithmic(x, a, b)\n",
    "plt.plot(x, y)\n",
    "plt.title(\"Line Plot, no noise\")\n",
    "plt.show()\n",
    "\n",
    "# same relationship with random noise\n",
    "noise = [np.random.normal(mu, sigma) for i in x]\n",
    "yn = np.abs(y+noise) \n",
    "plt.scatter(x, yn)\n",
    "plt.title(\"Scatter Plot, with noise\")\n",
    "plt.show()\n",
    "\n",
    "# transform explantory variable to create linear relationship\n",
    "plt.scatter(x, np.exp(yn))\n",
    "plt.title(\"Scatter Plot of Transformed Variable, with noise\")\n",
    "plt.ylabel(\"log(y)\")\n",
    "plt.show()"
   ]
  }
 ],
 "metadata": {
  "kernelspec": {
   "display_name": "Python 3",
   "language": "python",
   "name": "python3"
  },
  "language_info": {
   "codemirror_mode": {
    "name": "ipython",
    "version": 3
   },
   "file_extension": ".py",
   "mimetype": "text/x-python",
   "name": "python",
   "nbconvert_exporter": "python",
   "pygments_lexer": "ipython3",
   "version": "3.5.2"
  }
 },
 "nbformat": 4,
 "nbformat_minor": 0
}
